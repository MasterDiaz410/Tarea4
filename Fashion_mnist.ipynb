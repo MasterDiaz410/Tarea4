{
  "nbformat": 4,
  "nbformat_minor": 0,
  "metadata": {
    "kernelspec": {
      "display_name": "Python 3",
      "language": "python",
      "name": "python3"
    },
    "language_info": {
      "codemirror_mode": {
        "name": "ipython",
        "version": 3
      },
      "file_extension": ".py",
      "mimetype": "text/x-python",
      "name": "python",
      "nbconvert_exporter": "python",
      "pygments_lexer": "ipython3",
      "version": "3.7.2"
    },
    "colab": {
      "name": "Fashion_mnist.ipynb",
      "provenance": [],
      "include_colab_link": true
    }
  },
  "cells": [
    {
      "cell_type": "markdown",
      "metadata": {
        "id": "view-in-github",
        "colab_type": "text"
      },
      "source": [
        "<a href=\"https://colab.research.google.com/github/MasterDiaz410/Tarea4/blob/master/Fashion_mnist.ipynb\" target=\"_parent\"><img src=\"https://colab.research.google.com/assets/colab-badge.svg\" alt=\"Open In Colab\"/></a>"
      ]
    },
    {
      "cell_type": "code",
      "metadata": {
        "id": "tgot-TWZFWMM",
        "colab_type": "code",
        "colab": {
          "base_uri": "https://localhost:8080/",
          "height": 34
        },
        "outputId": "c9ce0740-b8ea-4742-ed53-b488adb1badd"
      },
      "source": [
        "import tensorflow.compat.v1 as tf\n",
        "tf.disable_v2_behavior()\n",
        "from tensorflow import keras\n",
        "\n",
        "import numpy as np\n",
        "import matplotlib.pyplot as plt\n",
        "\n",
        "\n",
        "from google.colab import drive \n",
        "drive.mount('/content/gdrive')"
      ],
      "execution_count": 95,
      "outputs": [
        {
          "output_type": "stream",
          "text": [
            "Drive already mounted at /content/gdrive; to attempt to forcibly remount, call drive.mount(\"/content/gdrive\", force_remount=True).\n"
          ],
          "name": "stdout"
        }
      ]
    },
    {
      "cell_type": "markdown",
      "metadata": {
        "id": "3f2SZX6eFWMP",
        "colab_type": "text"
      },
      "source": [
        "## Carga de data\n",
        "El dataset Fashion-MNIST cotiene 60,00 imagenes para el set de datos de entrenamiento y un set de datos de prueba de 10,000."
      ]
    },
    {
      "cell_type": "code",
      "metadata": {
        "id": "M5mINT22FWMP",
        "colab_type": "code",
        "colab": {}
      },
      "source": [
        "fashion_mnist = keras.datasets.fashion_mnist"
      ],
      "execution_count": 5,
      "outputs": []
    },
    {
      "cell_type": "code",
      "metadata": {
        "id": "7yXkWer3FWMR",
        "colab_type": "code",
        "colab": {
          "base_uri": "https://localhost:8080/",
          "height": 153
        },
        "outputId": "3acdd9e0-ea15-4331-fc8e-e911e501dd24"
      },
      "source": [
        "(train_images, train_labels), (test_images, test_labels) = fashion_mnist.load_data()"
      ],
      "execution_count": 6,
      "outputs": [
        {
          "output_type": "stream",
          "text": [
            "Downloading data from https://storage.googleapis.com/tensorflow/tf-keras-datasets/train-labels-idx1-ubyte.gz\n",
            "32768/29515 [=================================] - 0s 0us/step\n",
            "Downloading data from https://storage.googleapis.com/tensorflow/tf-keras-datasets/train-images-idx3-ubyte.gz\n",
            "26427392/26421880 [==============================] - 0s 0us/step\n",
            "Downloading data from https://storage.googleapis.com/tensorflow/tf-keras-datasets/t10k-labels-idx1-ubyte.gz\n",
            "8192/5148 [===============================================] - 0s 0us/step\n",
            "Downloading data from https://storage.googleapis.com/tensorflow/tf-keras-datasets/t10k-images-idx3-ubyte.gz\n",
            "4423680/4422102 [==============================] - 0s 0us/step\n"
          ],
          "name": "stdout"
        }
      ]
    },
    {
      "cell_type": "markdown",
      "metadata": {
        "id": "x6M9Ns7hFWMT",
        "colab_type": "text"
      },
      "source": [
        "## Imagenes\n",
        "Las imagenes son Numpy Arrays de 28x28, los pixeles estan entre los valores de 0 a 255"
      ]
    },
    {
      "cell_type": "code",
      "metadata": {
        "id": "EZbR0V9jFWMU",
        "colab_type": "code",
        "colab": {
          "base_uri": "https://localhost:8080/",
          "height": 282
        },
        "outputId": "7bec2beb-2379-4971-e598-a132e321d3be"
      },
      "source": [
        "plt.imshow(train_images[10], cmap = 'gray')\n",
        "plt.colorbar()"
      ],
      "execution_count": 7,
      "outputs": [
        {
          "output_type": "execute_result",
          "data": {
            "text/plain": [
              "<matplotlib.colorbar.Colorbar at 0x7f20b8d888d0>"
            ]
          },
          "metadata": {
            "tags": []
          },
          "execution_count": 7
        },
        {
          "output_type": "display_data",
          "data": {
            "image/png": "[encoded data removed]",
            "text/plain": [
              "<Figure size 432x288 with 2 Axes>"
            ]
          },
          "metadata": {
            "tags": [],
            "needs_background": "light"
          }
        }
      ]
    },
    {
      "cell_type": "markdown",
      "metadata": {
        "id": "ULloJxI4FWMY",
        "colab_type": "text"
      },
      "source": [
        "## Labels"
      ]
    },
    {
      "cell_type": "code",
      "metadata": {
        "id": "dERtPT1tFWMY",
        "colab_type": "code",
        "colab": {
          "base_uri": "https://localhost:8080/",
          "height": 34
        },
        "outputId": "1646b8b5-a5c1-4f89-ea49-e241fb06c3a3"
      },
      "source": [
        "np.unique(train_labels)"
      ],
      "execution_count": 9,
      "outputs": [
        {
          "output_type": "execute_result",
          "data": {
            "text/plain": [
              "array([0, 1, 2, 3, 4, 5, 6, 7, 8, 9], dtype=uint8)"
            ]
          },
          "metadata": {
            "tags": []
          },
          "execution_count": 9
        }
      ]
    },
    {
      "cell_type": "markdown",
      "metadata": {
        "id": "fhO-p-d7FWMa",
        "colab_type": "text"
      },
      "source": [
        "| Label | Class       |\n",
        "|-------|-------------|\n",
        "| 0     | T-shirt/top |\n",
        "| 1     | Trouser     |\n",
        "| 2     | Pullover    |\n",
        "| 3     | Dress       |\n",
        "| 4     | Coat        |\n",
        "| 5     | Sandal      |\n",
        "| 6     | Shirt       |\n",
        "| 7     | Sneaker     |\n",
        "| 8     | Bag         |\n",
        "| 9     | Ankle boot  |"
      ]
    },
    {
      "cell_type": "code",
      "metadata": {
        "id": "-NrQVlHlFWMb",
        "colab_type": "code",
        "colab": {
          "base_uri": "https://localhost:8080/",
          "height": 589
        },
        "outputId": "d1f6d8d4-7278-4c03-b138-758aa23424a8"
      },
      "source": [
        "plt.figure(figsize=(10,10))\n",
        "\n",
        "for i in range(25):\n",
        "    plt.subplot(5,5,i+1)\n",
        "    plt.xticks([])\n",
        "    plt.yticks([])\n",
        "    plt.grid(False)\n",
        "    plt.imshow(train_images[i], cmap='gray')\n",
        "    plt.xlabel(train_labels[i])\n",
        "plt.show()"
      ],
      "execution_count": 10,
      "outputs": [
        {
          "output_type": "display_data",
          "data": {
            "image/png": "[encoded data removed]",
            "text/plain": [
              "<Figure size 720x720 with 25 Axes>"
            ]
          },
          "metadata": {
            "tags": []
          }
        }
      ]
    },
    {
      "cell_type": "markdown",
      "metadata": {
        "id": "-FEdWIXVFWMd",
        "colab_type": "text"
      },
      "source": [
        "# Tarea\n",
        "\n",
        "Para esta tarea se deben utilizar únicamente 3 clases, se puede escoger cualquiera de las 10 disponibles en el data set, por lo que hay que filtrar las clases elegidas en los arreglos:\n",
        "- train_images\n",
        "- train_labels\n",
        "- test_images\n",
        "- test_labels\n",
        "\n",
        "El objetivo de la tarea es comparar la diferencia al aplicar feature scale/normalization y las features sin ninguna transformación y comparar el efecto de el scaling/normalización sobre el entrenamiento con regresión logística.\n",
        "- Se debe crear un diccionario con el valor numérico de las labels y el texto correspondiente para poder relacionar el valor numérico con el valor descriptivo/textual.\n",
        "- Aplicar regresión logística con entropía cruzada como función de costo, crear una función que recibe de entrada un tensor x y predice la clase(utilizar el diccionario para mostrar el texto perteneciente al label).\n",
        "- Adicional a el costo(por entropía cruzada) en el grafo se debe agregar un nodo que calcule el acurracy(comparando el valor real vs el estimado por el modelo).\n",
        "- El accuracy y el costo deben ser agregados a tensorboard (agregar screenshots al notebook)\n",
        "- Se debe agregar al notebook un screenshot del grafo/grafos de tensorboard, simplificando(usando names y name_scope como visto en clase).\n",
        "- Todo lo anterior se debe hacer tanto para datos crudos, como para datos transformados con (normalización y escalado)\n",
        "- Basado en los ejemplos de visualización de imagenes en el notebook ,crear una función que reciba de entrada el tensor que representa a una imagen, grafique esta imagen poniendo como título el nombre de la prenda con mayor probabilidad.\n",
        "- Utilizar la función anterior para mostrar una muestra aleatoria de 5 imágenes(y la predicción probabilistica de la prenda)\n",
        "- Comparar con tensorboard las curvas de aprendizaje del entrenamiento con datos crudos vs datos transformados, y los 2 grafos y concluir/opinar al respecto usando markdown(agregando screenshots)\n",
        "- Utilizar mini batch gradient descent con batch size de 32"
      ]
    },
    {
      "cell_type": "markdown",
      "metadata": {
        "id": "VVMaa3E2KjlR",
        "colab_type": "text"
      },
      "source": [
        "# Filtro train_labels y train_images"
      ]
    },
    {
      "cell_type": "code",
      "metadata": {
        "id": "vHRZegYNKjR5",
        "colab_type": "code",
        "colab": {}
      },
      "source": [
        "filtro_train = (train_labels == 7) | (train_labels == 8) | (train_labels == 9)"
      ],
      "execution_count": 33,
      "outputs": []
    },
    {
      "cell_type": "markdown",
      "metadata": {
        "id": "O24dj8UtNNDo",
        "colab_type": "text"
      },
      "source": [
        "# Train Labels"
      ]
    },
    {
      "cell_type": "code",
      "metadata": {
        "id": "QVQN8v0AMRBo",
        "colab_type": "code",
        "colab": {}
      },
      "source": [
        "train_labels_filtered = train_labels[filtro_train]"
      ],
      "execution_count": 32,
      "outputs": []
    },
    {
      "cell_type": "markdown",
      "metadata": {
        "id": "dmZWk_uCNCh3",
        "colab_type": "text"
      },
      "source": [
        "# Train Images"
      ]
    },
    {
      "cell_type": "code",
      "metadata": {
        "id": "NPv_mJ3vLYic",
        "colab_type": "code",
        "colab": {}
      },
      "source": [
        "train_images_filtered = train_images[filtro_train]"
      ],
      "execution_count": 34,
      "outputs": []
    },
    {
      "cell_type": "markdown",
      "metadata": {
        "id": "7Wsj8eXtMZEq",
        "colab_type": "text"
      },
      "source": [
        "Tipo"
      ]
    },
    {
      "cell_type": "code",
      "metadata": {
        "id": "3jGD_xonMWA_",
        "colab_type": "code",
        "colab": {
          "base_uri": "https://localhost:8080/",
          "height": 34
        },
        "outputId": "f4a78765-0ad9-401b-bd85-99ccceaec094"
      },
      "source": [
        "print(type(train_images_filtered))"
      ],
      "execution_count": 35,
      "outputs": [
        {
          "output_type": "stream",
          "text": [
            "<class 'numpy.ndarray'>\n"
          ],
          "name": "stdout"
        }
      ]
    },
    {
      "cell_type": "markdown",
      "metadata": {
        "id": "TwDT6bllMftm",
        "colab_type": "text"
      },
      "source": [
        "Forma"
      ]
    },
    {
      "cell_type": "code",
      "metadata": {
        "id": "-9ok0CGRMg9A",
        "colab_type": "code",
        "colab": {
          "base_uri": "https://localhost:8080/",
          "height": 34
        },
        "outputId": "cb719ff6-f505-4945-f91f-ac33130843f0"
      },
      "source": [
        "print(train_images_filtered.shape)"
      ],
      "execution_count": 36,
      "outputs": [
        {
          "output_type": "stream",
          "text": [
            "(18000, 28, 28)\n"
          ],
          "name": "stdout"
        }
      ]
    },
    {
      "cell_type": "markdown",
      "metadata": {
        "id": "pKIK3ysRMucn",
        "colab_type": "text"
      },
      "source": [
        "Rango"
      ]
    },
    {
      "cell_type": "code",
      "metadata": {
        "id": "zpE8ow4-MsA_",
        "colab_type": "code",
        "colab": {
          "base_uri": "https://localhost:8080/",
          "height": 34
        },
        "outputId": "3aa031c1-9d73-4442-adb7-f95b2fd0bbaf"
      },
      "source": [
        "print(train_images_filtered.ndim)"
      ],
      "execution_count": 37,
      "outputs": [
        {
          "output_type": "stream",
          "text": [
            "3\n"
          ],
          "name": "stdout"
        }
      ]
    },
    {
      "cell_type": "markdown",
      "metadata": {
        "id": "23NpWXU3Mtet",
        "colab_type": "text"
      },
      "source": [
        "Visualización de datos"
      ]
    },
    {
      "cell_type": "code",
      "metadata": {
        "id": "zey6lcSNM45d",
        "colab_type": "code",
        "colab": {
          "base_uri": "https://localhost:8080/",
          "height": 850
        },
        "outputId": "3cf1e1d0-072c-4357-a10f-7e747bc72ee7"
      },
      "source": [
        "print(train_images_filtered)"
      ],
      "execution_count": 38,
      "outputs": [
        {
          "output_type": "stream",
          "text": [
            "[[[  0   0   0 ...   0   0   0]\n",
            "  [  0   0   0 ...   0   0   0]\n",
            "  [  0   0   0 ...   0   0   0]\n",
            "  ...\n",
            "  [  0   0   0 ...   0   0   0]\n",
            "  [  0   0   0 ...   0   0   0]\n",
            "  [  0   0   0 ...   0   0   0]]\n",
            "\n",
            " [[  0   0   0 ...   0   0   0]\n",
            "  [  0   0   0 ...   0   0   0]\n",
            "  [  0   0   0 ...   0   0   0]\n",
            "  ...\n",
            "  [  0   0   0 ...   0   0   0]\n",
            "  [  0   0   0 ...   0   0   0]\n",
            "  [  0   0   0 ...   0   0   0]]\n",
            "\n",
            " [[  0   0   0 ...   0   0   0]\n",
            "  [  0   0   0 ...   3   0   0]\n",
            "  [  0   0   0 ...   9   0   0]\n",
            "  ...\n",
            "  [  0   9 188 ...   7   0   0]\n",
            "  [  0   0   0 ...   4   0   0]\n",
            "  [  0   0   0 ...   0   0   0]]\n",
            "\n",
            " ...\n",
            "\n",
            " [[  0   0   0 ...   0   0   0]\n",
            "  [  0   0   0 ...   0   0   0]\n",
            "  [  0   0   0 ...   0   0   0]\n",
            "  ...\n",
            "  [  0   0   0 ...   0   0   0]\n",
            "  [  0   0   0 ...   0   0   0]\n",
            "  [  0   0   0 ...   0   0   0]]\n",
            "\n",
            " [[  0   0   0 ...   0   0   0]\n",
            "  [  0   0   0 ...   0   0   0]\n",
            "  [  0   0   0 ...   0   0   0]\n",
            "  ...\n",
            "  [  0   0   0 ...   0   0   0]\n",
            "  [  0   0   0 ...   0   0   0]\n",
            "  [  0   0   0 ...   0   0   0]]\n",
            "\n",
            " [[  0   0   0 ...   0   0   0]\n",
            "  [  0   0   0 ...   0   0   0]\n",
            "  [  0   0   0 ...   0   0   0]\n",
            "  ...\n",
            "  [  0   0   0 ...   0   0   0]\n",
            "  [  0   0   0 ...   0   0   0]\n",
            "  [  0   0   0 ...   0   0   0]]]\n"
          ],
          "name": "stdout"
        }
      ]
    },
    {
      "cell_type": "markdown",
      "metadata": {
        "id": "F3XRpL66NvL7",
        "colab_type": "text"
      },
      "source": [
        "# Train Images sin preprocesamiento"
      ]
    },
    {
      "cell_type": "code",
      "metadata": {
        "id": "qzvxou2hOUqP",
        "colab_type": "code",
        "colab": {}
      },
      "source": [
        "width = 18000\n",
        "height = 28*28\n",
        "train_images_reshaped = train_images_filtered.reshape(width, height)"
      ],
      "execution_count": 44,
      "outputs": []
    },
    {
      "cell_type": "markdown",
      "metadata": {
        "id": "Yhkz_kP2OJjz",
        "colab_type": "text"
      },
      "source": [
        "Tipo"
      ]
    },
    {
      "cell_type": "code",
      "metadata": {
        "id": "RjM1EkPnOLed",
        "colab_type": "code",
        "colab": {
          "base_uri": "https://localhost:8080/",
          "height": 34
        },
        "outputId": "46eac9ab-3383-46f3-b54f-778e819056d4"
      },
      "source": [
        "print(type(train_images_reshaped))"
      ],
      "execution_count": 45,
      "outputs": [
        {
          "output_type": "stream",
          "text": [
            "<class 'numpy.ndarray'>\n"
          ],
          "name": "stdout"
        }
      ]
    },
    {
      "cell_type": "markdown",
      "metadata": {
        "id": "raqnbeSoOL1B",
        "colab_type": "text"
      },
      "source": [
        "Forma"
      ]
    },
    {
      "cell_type": "code",
      "metadata": {
        "id": "chEt3dQmONPa",
        "colab_type": "code",
        "colab": {
          "base_uri": "https://localhost:8080/",
          "height": 34
        },
        "outputId": "2c3dbbb6-eae8-4492-b077-6801cd9ed78c"
      },
      "source": [
        "print(train_images_reshaped.shape)"
      ],
      "execution_count": 46,
      "outputs": [
        {
          "output_type": "stream",
          "text": [
            "(18000, 784)\n"
          ],
          "name": "stdout"
        }
      ]
    },
    {
      "cell_type": "markdown",
      "metadata": {
        "id": "2cffTGfIONf5",
        "colab_type": "text"
      },
      "source": [
        "Rango"
      ]
    },
    {
      "cell_type": "code",
      "metadata": {
        "id": "0Ge_Kr8yOPAf",
        "colab_type": "code",
        "colab": {
          "base_uri": "https://localhost:8080/",
          "height": 34
        },
        "outputId": "db6c5d51-e3ce-4c07-f100-7ac79a73184a"
      },
      "source": [
        "print(train_images_reshaped.ndim)"
      ],
      "execution_count": 47,
      "outputs": [
        {
          "output_type": "stream",
          "text": [
            "2\n"
          ],
          "name": "stdout"
        }
      ]
    },
    {
      "cell_type": "markdown",
      "metadata": {
        "id": "MExh_XBJOPg8",
        "colab_type": "text"
      },
      "source": [
        "Visualización de datos"
      ]
    },
    {
      "cell_type": "code",
      "metadata": {
        "id": "o5_M1y3sNud6",
        "colab_type": "code",
        "colab": {
          "base_uri": "https://localhost:8080/",
          "height": 136
        },
        "outputId": "dfc86694-5a25-4c94-e126-1c023deecb57"
      },
      "source": [
        "print(train_images_reshaped)"
      ],
      "execution_count": 48,
      "outputs": [
        {
          "output_type": "stream",
          "text": [
            "[[0 0 0 ... 0 0 0]\n",
            " [0 0 0 ... 0 0 0]\n",
            " [0 0 0 ... 0 0 0]\n",
            " ...\n",
            " [0 0 0 ... 0 0 0]\n",
            " [0 0 0 ... 0 0 0]\n",
            " [0 0 0 ... 0 0 0]]\n"
          ],
          "name": "stdout"
        }
      ]
    },
    {
      "cell_type": "markdown",
      "metadata": {
        "id": "P9BGEMVXSXzC",
        "colab_type": "text"
      },
      "source": [
        "# Filtro test_images y test_labels"
      ]
    },
    {
      "cell_type": "code",
      "metadata": {
        "id": "KLLy_zuMSdoB",
        "colab_type": "code",
        "colab": {}
      },
      "source": [
        "filtro_test = (test_labels == 7) | (test_labels == 8) | (test_labels == 9)"
      ],
      "execution_count": 49,
      "outputs": []
    },
    {
      "cell_type": "markdown",
      "metadata": {
        "id": "dsRu2_IeSxwn",
        "colab_type": "text"
      },
      "source": [
        "# Test Labels"
      ]
    },
    {
      "cell_type": "code",
      "metadata": {
        "id": "jG941wbISyMe",
        "colab_type": "code",
        "colab": {}
      },
      "source": [
        "test_labels_filtered = test_labels[filtro_test]"
      ],
      "execution_count": 50,
      "outputs": []
    },
    {
      "cell_type": "markdown",
      "metadata": {
        "id": "PLmwGxcsSybc",
        "colab_type": "text"
      },
      "source": [
        "# Test Images"
      ]
    },
    {
      "cell_type": "code",
      "metadata": {
        "id": "kBXdxd-tSy1B",
        "colab_type": "code",
        "colab": {}
      },
      "source": [
        "test_images_filtered = test_images[filtro_test]"
      ],
      "execution_count": 51,
      "outputs": []
    },
    {
      "cell_type": "markdown",
      "metadata": {
        "id": "NgjQFqi2THl_",
        "colab_type": "text"
      },
      "source": [
        "Tipo"
      ]
    },
    {
      "cell_type": "code",
      "metadata": {
        "id": "Lwf9XuT1THyb",
        "colab_type": "code",
        "colab": {
          "base_uri": "https://localhost:8080/",
          "height": 34
        },
        "outputId": "922b3c43-d6b8-498e-f9bf-0dd7b98abdb1"
      },
      "source": [
        "print(type(test_images_filtered))"
      ],
      "execution_count": 53,
      "outputs": [
        {
          "output_type": "stream",
          "text": [
            "<class 'numpy.ndarray'>\n"
          ],
          "name": "stdout"
        }
      ]
    },
    {
      "cell_type": "markdown",
      "metadata": {
        "id": "OA-GFKLJTJdb",
        "colab_type": "text"
      },
      "source": [
        "Forma"
      ]
    },
    {
      "cell_type": "code",
      "metadata": {
        "id": "lMocXzTDTKCX",
        "colab_type": "code",
        "colab": {
          "base_uri": "https://localhost:8080/",
          "height": 34
        },
        "outputId": "8710fd4b-c3a2-49e0-9564-2a592bea4a54"
      },
      "source": [
        "print(test_images_filtered.shape)"
      ],
      "execution_count": 54,
      "outputs": [
        {
          "output_type": "stream",
          "text": [
            "(3000, 28, 28)\n"
          ],
          "name": "stdout"
        }
      ]
    },
    {
      "cell_type": "markdown",
      "metadata": {
        "id": "5T_ucOCzTKRS",
        "colab_type": "text"
      },
      "source": [
        "Rango"
      ]
    },
    {
      "cell_type": "code",
      "metadata": {
        "id": "JRn-0vI9TKvg",
        "colab_type": "code",
        "colab": {
          "base_uri": "https://localhost:8080/",
          "height": 34
        },
        "outputId": "42d20586-e063-454c-cfa0-85529971c94d"
      },
      "source": [
        "print(test_images_filtered.ndim)"
      ],
      "execution_count": 55,
      "outputs": [
        {
          "output_type": "stream",
          "text": [
            "3\n"
          ],
          "name": "stdout"
        }
      ]
    },
    {
      "cell_type": "markdown",
      "metadata": {
        "id": "CYhRtGI5TLAR",
        "colab_type": "text"
      },
      "source": [
        "Visualización de datos"
      ]
    },
    {
      "cell_type": "code",
      "metadata": {
        "id": "qlq90RL8TLSk",
        "colab_type": "code",
        "colab": {
          "base_uri": "https://localhost:8080/",
          "height": 850
        },
        "outputId": "d3445d14-a0a4-49be-a617-6d71a7a6edff"
      },
      "source": [
        "print(test_images_filtered)"
      ],
      "execution_count": 56,
      "outputs": [
        {
          "output_type": "stream",
          "text": [
            "[[[0 0 0 ... 0 0 0]\n",
            "  [0 0 0 ... 0 0 0]\n",
            "  [0 0 0 ... 0 0 0]\n",
            "  ...\n",
            "  [0 0 0 ... 0 0 0]\n",
            "  [0 0 0 ... 0 0 0]\n",
            "  [0 0 0 ... 0 0 0]]\n",
            "\n",
            " [[0 0 0 ... 0 0 0]\n",
            "  [0 0 0 ... 0 0 0]\n",
            "  [0 0 0 ... 0 0 0]\n",
            "  ...\n",
            "  [0 0 0 ... 0 0 0]\n",
            "  [0 0 0 ... 0 0 0]\n",
            "  [0 0 0 ... 0 0 0]]\n",
            "\n",
            " [[0 0 0 ... 0 0 0]\n",
            "  [0 0 0 ... 0 0 0]\n",
            "  [0 0 0 ... 0 0 0]\n",
            "  ...\n",
            "  [0 0 0 ... 0 0 0]\n",
            "  [0 0 0 ... 0 0 0]\n",
            "  [0 0 0 ... 0 0 0]]\n",
            "\n",
            " ...\n",
            "\n",
            " [[0 0 0 ... 0 0 0]\n",
            "  [0 0 0 ... 0 0 0]\n",
            "  [0 0 0 ... 0 0 0]\n",
            "  ...\n",
            "  [0 0 0 ... 0 0 0]\n",
            "  [0 0 0 ... 0 0 0]\n",
            "  [0 0 0 ... 0 0 0]]\n",
            "\n",
            " [[0 0 0 ... 0 0 0]\n",
            "  [0 0 0 ... 0 0 0]\n",
            "  [0 0 0 ... 0 0 0]\n",
            "  ...\n",
            "  [0 0 0 ... 0 0 0]\n",
            "  [0 0 0 ... 0 0 0]\n",
            "  [0 0 0 ... 0 0 0]]\n",
            "\n",
            " [[0 0 0 ... 0 0 0]\n",
            "  [0 0 0 ... 0 0 0]\n",
            "  [0 0 0 ... 0 0 0]\n",
            "  ...\n",
            "  [0 0 0 ... 0 0 0]\n",
            "  [0 0 0 ... 0 0 0]\n",
            "  [0 0 0 ... 0 0 0]]]\n"
          ],
          "name": "stdout"
        }
      ]
    },
    {
      "cell_type": "markdown",
      "metadata": {
        "id": "TfZ73uT-TrIh",
        "colab_type": "text"
      },
      "source": [
        "# Test Images sin procesar"
      ]
    },
    {
      "cell_type": "code",
      "metadata": {
        "id": "2xNwgKQ0TwHm",
        "colab_type": "code",
        "colab": {}
      },
      "source": [
        "width = 3000\n",
        "height = 28*28\n",
        "test_images_reshaped = test_images_filtered.reshape(width, height)"
      ],
      "execution_count": 58,
      "outputs": []
    },
    {
      "cell_type": "markdown",
      "metadata": {
        "id": "vcwWzaY9T_fQ",
        "colab_type": "text"
      },
      "source": [
        "Tipo"
      ]
    },
    {
      "cell_type": "code",
      "metadata": {
        "id": "pS2KBSinT_5X",
        "colab_type": "code",
        "colab": {
          "base_uri": "https://localhost:8080/",
          "height": 34
        },
        "outputId": "31b49b4d-8764-440f-b900-887fcff9dc3b"
      },
      "source": [
        "print(type(test_images_reshaped))"
      ],
      "execution_count": 59,
      "outputs": [
        {
          "output_type": "stream",
          "text": [
            "<class 'numpy.ndarray'>\n"
          ],
          "name": "stdout"
        }
      ]
    },
    {
      "cell_type": "markdown",
      "metadata": {
        "id": "iqL5FYqSUAQj",
        "colab_type": "text"
      },
      "source": [
        "Forma"
      ]
    },
    {
      "cell_type": "code",
      "metadata": {
        "id": "Tp3DzXGbUAgp",
        "colab_type": "code",
        "colab": {
          "base_uri": "https://localhost:8080/",
          "height": 34
        },
        "outputId": "4ebf0d8c-7732-4f26-c07e-8447f04604fd"
      },
      "source": [
        "print(test_images_reshaped.shape)"
      ],
      "execution_count": 60,
      "outputs": [
        {
          "output_type": "stream",
          "text": [
            "(3000, 784)\n"
          ],
          "name": "stdout"
        }
      ]
    },
    {
      "cell_type": "markdown",
      "metadata": {
        "id": "rSNgOTWfUAxa",
        "colab_type": "text"
      },
      "source": [
        "Rango"
      ]
    },
    {
      "cell_type": "code",
      "metadata": {
        "id": "Z47ID09-UBEy",
        "colab_type": "code",
        "colab": {
          "base_uri": "https://localhost:8080/",
          "height": 34
        },
        "outputId": "489b0e2b-94e5-463b-d384-d5251d13afee"
      },
      "source": [
        "print(test_images_reshaped.ndim)"
      ],
      "execution_count": 61,
      "outputs": [
        {
          "output_type": "stream",
          "text": [
            "2\n"
          ],
          "name": "stdout"
        }
      ]
    },
    {
      "cell_type": "markdown",
      "metadata": {
        "id": "rsh4yQ9OUBUw",
        "colab_type": "text"
      },
      "source": [
        "Visualización de datos"
      ]
    },
    {
      "cell_type": "code",
      "metadata": {
        "id": "W8LHpWczUBz0",
        "colab_type": "code",
        "colab": {
          "base_uri": "https://localhost:8080/",
          "height": 136
        },
        "outputId": "6f9612be-df66-4ba6-ecd0-37eb5b57a598"
      },
      "source": [
        "print(test_images_reshaped)"
      ],
      "execution_count": 62,
      "outputs": [
        {
          "output_type": "stream",
          "text": [
            "[[0 0 0 ... 0 0 0]\n",
            " [0 0 0 ... 0 0 0]\n",
            " [0 0 0 ... 0 0 0]\n",
            " ...\n",
            " [0 0 0 ... 0 0 0]\n",
            " [0 0 0 ... 0 0 0]\n",
            " [0 0 0 ... 0 0 0]]\n"
          ],
          "name": "stdout"
        }
      ]
    },
    {
      "cell_type": "markdown",
      "metadata": {
        "id": "70Pd27QMUaE3",
        "colab_type": "text"
      },
      "source": [
        "# Normalización train_images"
      ]
    },
    {
      "cell_type": "code",
      "metadata": {
        "id": "6J6J9NOiUZoD",
        "colab_type": "code",
        "colab": {
          "base_uri": "https://localhost:8080/",
          "height": 136
        },
        "outputId": "9dff59b1-8990-428f-82e2-17d8a4146bef"
      },
      "source": [
        "norm = 255\n",
        "train_images_normalized = (train_images_reshaped / norm)\n",
        "print(train_images_normalized)"
      ],
      "execution_count": 65,
      "outputs": [
        {
          "output_type": "stream",
          "text": [
            "[[0. 0. 0. ... 0. 0. 0.]\n",
            " [0. 0. 0. ... 0. 0. 0.]\n",
            " [0. 0. 0. ... 0. 0. 0.]\n",
            " ...\n",
            " [0. 0. 0. ... 0. 0. 0.]\n",
            " [0. 0. 0. ... 0. 0. 0.]\n",
            " [0. 0. 0. ... 0. 0. 0.]]\n"
          ],
          "name": "stdout"
        }
      ]
    },
    {
      "cell_type": "code",
      "metadata": {
        "id": "nleSZxRLUvDq",
        "colab_type": "code",
        "colab": {
          "base_uri": "https://localhost:8080/",
          "height": 1000
        },
        "outputId": "6fc0c47f-9350-448b-a5b0-c3d3cd00d640"
      },
      "source": [
        "print(train_images_normalized[0])"
      ],
      "execution_count": 66,
      "outputs": [
        {
          "output_type": "stream",
          "text": [
            "[0.         0.         0.         0.         0.         0.\n",
            " 0.         0.         0.         0.         0.         0.\n",
            " 0.         0.         0.         0.         0.         0.\n",
            " 0.         0.         0.         0.         0.         0.\n",
            " 0.         0.         0.         0.         0.         0.\n",
            " 0.         0.         0.         0.         0.         0.\n",
            " 0.         0.         0.         0.         0.         0.\n",
            " 0.         0.         0.         0.         0.         0.\n",
            " 0.         0.         0.         0.         0.         0.\n",
            " 0.         0.         0.         0.         0.         0.\n",
            " 0.         0.         0.         0.         0.         0.\n",
            " 0.         0.         0.         0.         0.         0.\n",
            " 0.         0.         0.         0.         0.         0.\n",
            " 0.         0.         0.         0.         0.         0.\n",
            " 0.         0.         0.         0.         0.         0.\n",
            " 0.         0.         0.         0.         0.         0.\n",
            " 0.00392157 0.         0.         0.05098039 0.28627451 0.\n",
            " 0.         0.00392157 0.01568627 0.         0.         0.\n",
            " 0.         0.00392157 0.00392157 0.         0.         0.\n",
            " 0.         0.         0.         0.         0.         0.\n",
            " 0.         0.         0.         0.         0.01176471 0.\n",
            " 0.14117647 0.53333333 0.49803922 0.24313725 0.21176471 0.\n",
            " 0.         0.         0.00392157 0.01176471 0.01568627 0.\n",
            " 0.         0.01176471 0.         0.         0.         0.\n",
            " 0.         0.         0.         0.         0.         0.\n",
            " 0.         0.         0.02352941 0.         0.4        0.8\n",
            " 0.69019608 0.5254902  0.56470588 0.48235294 0.09019608 0.\n",
            " 0.         0.         0.         0.04705882 0.03921569 0.\n",
            " 0.         0.         0.         0.         0.         0.\n",
            " 0.         0.         0.         0.         0.         0.\n",
            " 0.         0.         0.60784314 0.9254902  0.81176471 0.69803922\n",
            " 0.41960784 0.61176471 0.63137255 0.42745098 0.25098039 0.09019608\n",
            " 0.30196078 0.50980392 0.28235294 0.05882353 0.         0.\n",
            " 0.         0.         0.         0.         0.         0.\n",
            " 0.         0.         0.         0.00392157 0.         0.27058824\n",
            " 0.81176471 0.8745098  0.85490196 0.84705882 0.84705882 0.63921569\n",
            " 0.49803922 0.4745098  0.47843137 0.57254902 0.55294118 0.34509804\n",
            " 0.6745098  0.25882353 0.         0.         0.         0.\n",
            " 0.         0.         0.         0.         0.         0.00392157\n",
            " 0.00392157 0.00392157 0.         0.78431373 0.90980392 0.90980392\n",
            " 0.91372549 0.89803922 0.8745098  0.8745098  0.84313725 0.83529412\n",
            " 0.64313725 0.49803922 0.48235294 0.76862745 0.89803922 0.\n",
            " 0.         0.         0.         0.         0.         0.\n",
            " 0.         0.         0.         0.         0.         0.\n",
            " 0.         0.71764706 0.88235294 0.84705882 0.8745098  0.89411765\n",
            " 0.92156863 0.89019608 0.87843137 0.87058824 0.87843137 0.86666667\n",
            " 0.8745098  0.96078431 0.67843137 0.         0.         0.\n",
            " 0.         0.         0.         0.         0.         0.\n",
            " 0.         0.         0.         0.         0.         0.75686275\n",
            " 0.89411765 0.85490196 0.83529412 0.77647059 0.70588235 0.83137255\n",
            " 0.82352941 0.82745098 0.83529412 0.8745098  0.8627451  0.95294118\n",
            " 0.79215686 0.         0.         0.         0.         0.\n",
            " 0.         0.         0.         0.         0.         0.00392157\n",
            " 0.01176471 0.         0.04705882 0.85882353 0.8627451  0.83137255\n",
            " 0.85490196 0.75294118 0.6627451  0.89019608 0.81568627 0.85490196\n",
            " 0.87843137 0.83137255 0.88627451 0.77254902 0.81960784 0.20392157\n",
            " 0.         0.         0.         0.         0.         0.\n",
            " 0.         0.         0.         0.         0.02352941 0.\n",
            " 0.38823529 0.95686275 0.87058824 0.8627451  0.85490196 0.79607843\n",
            " 0.77647059 0.86666667 0.84313725 0.83529412 0.87058824 0.8627451\n",
            " 0.96078431 0.46666667 0.65490196 0.21960784 0.         0.\n",
            " 0.         0.         0.         0.         0.         0.\n",
            " 0.         0.01568627 0.         0.         0.21568627 0.9254902\n",
            " 0.89411765 0.90196078 0.89411765 0.94117647 0.90980392 0.83529412\n",
            " 0.85490196 0.8745098  0.91764706 0.85098039 0.85098039 0.81960784\n",
            " 0.36078431 0.         0.         0.         0.00392157 0.01568627\n",
            " 0.02352941 0.02745098 0.00784314 0.         0.         0.\n",
            " 0.         0.         0.92941176 0.88627451 0.85098039 0.8745098\n",
            " 0.87058824 0.85882353 0.87058824 0.86666667 0.84705882 0.8745098\n",
            " 0.89803922 0.84313725 0.85490196 1.         0.30196078 0.\n",
            " 0.         0.01176471 0.         0.         0.         0.\n",
            " 0.         0.         0.         0.24313725 0.56862745 0.8\n",
            " 0.89411765 0.81176471 0.83529412 0.86666667 0.85490196 0.81568627\n",
            " 0.82745098 0.85490196 0.87843137 0.8745098  0.85882353 0.84313725\n",
            " 0.87843137 0.95686275 0.62352941 0.         0.         0.\n",
            " 0.         0.         0.07058824 0.17254902 0.32156863 0.41960784\n",
            " 0.74117647 0.89411765 0.8627451  0.87058824 0.85098039 0.88627451\n",
            " 0.78431373 0.80392157 0.82745098 0.90196078 0.87843137 0.91764706\n",
            " 0.69019608 0.7372549  0.98039216 0.97254902 0.91372549 0.93333333\n",
            " 0.84313725 0.         0.         0.22352941 0.73333333 0.81568627\n",
            " 0.87843137 0.86666667 0.87843137 0.81568627 0.8        0.83921569\n",
            " 0.81568627 0.81960784 0.78431373 0.62352941 0.96078431 0.75686275\n",
            " 0.80784314 0.8745098  1.         1.         0.86666667 0.91764706\n",
            " 0.86666667 0.82745098 0.8627451  0.90980392 0.96470588 0.\n",
            " 0.01176471 0.79215686 0.89411765 0.87843137 0.86666667 0.82745098\n",
            " 0.82745098 0.83921569 0.80392157 0.80392157 0.80392157 0.8627451\n",
            " 0.94117647 0.31372549 0.58823529 1.         0.89803922 0.86666667\n",
            " 0.7372549  0.60392157 0.74901961 0.82352941 0.8        0.81960784\n",
            " 0.87058824 0.89411765 0.88235294 0.         0.38431373 0.91372549\n",
            " 0.77647059 0.82352941 0.87058824 0.89803922 0.89803922 0.91764706\n",
            " 0.97647059 0.8627451  0.76078431 0.84313725 0.85098039 0.94509804\n",
            " 0.25490196 0.28627451 0.41568627 0.45882353 0.65882353 0.85882353\n",
            " 0.86666667 0.84313725 0.85098039 0.8745098  0.8745098  0.87843137\n",
            " 0.89803922 0.11372549 0.29411765 0.8        0.83137255 0.8\n",
            " 0.75686275 0.80392157 0.82745098 0.88235294 0.84705882 0.7254902\n",
            " 0.77254902 0.80784314 0.77647059 0.83529412 0.94117647 0.76470588\n",
            " 0.89019608 0.96078431 0.9372549  0.8745098  0.85490196 0.83137255\n",
            " 0.81960784 0.87058824 0.8627451  0.86666667 0.90196078 0.2627451\n",
            " 0.18823529 0.79607843 0.71764706 0.76078431 0.83529412 0.77254902\n",
            " 0.7254902  0.74509804 0.76078431 0.75294118 0.79215686 0.83921569\n",
            " 0.85882353 0.86666667 0.8627451  0.9254902  0.88235294 0.84705882\n",
            " 0.78039216 0.80784314 0.72941176 0.70980392 0.69411765 0.6745098\n",
            " 0.70980392 0.80392157 0.80784314 0.45098039 0.         0.47843137\n",
            " 0.85882353 0.75686275 0.70196078 0.67058824 0.71764706 0.76862745\n",
            " 0.8        0.82352941 0.83529412 0.81176471 0.82745098 0.82352941\n",
            " 0.78431373 0.76862745 0.76078431 0.74901961 0.76470588 0.74901961\n",
            " 0.77647059 0.75294118 0.69019608 0.61176471 0.65490196 0.69411765\n",
            " 0.82352941 0.36078431 0.         0.         0.29019608 0.74117647\n",
            " 0.83137255 0.74901961 0.68627451 0.6745098  0.68627451 0.70980392\n",
            " 0.7254902  0.7372549  0.74117647 0.7372549  0.75686275 0.77647059\n",
            " 0.8        0.81960784 0.82352941 0.82352941 0.82745098 0.7372549\n",
            " 0.7372549  0.76078431 0.75294118 0.84705882 0.66666667 0.\n",
            " 0.00784314 0.         0.         0.         0.25882353 0.78431373\n",
            " 0.87058824 0.92941176 0.9372549  0.94901961 0.96470588 0.95294118\n",
            " 0.95686275 0.86666667 0.8627451  0.75686275 0.74901961 0.70196078\n",
            " 0.71372549 0.71372549 0.70980392 0.69019608 0.65098039 0.65882353\n",
            " 0.38823529 0.22745098 0.         0.         0.         0.\n",
            " 0.         0.         0.         0.         0.         0.15686275\n",
            " 0.23921569 0.17254902 0.28235294 0.16078431 0.1372549  0.\n",
            " 0.         0.         0.         0.         0.         0.\n",
            " 0.         0.         0.         0.         0.         0.\n",
            " 0.         0.         0.         0.         0.         0.\n",
            " 0.         0.         0.         0.         0.         0.\n",
            " 0.         0.         0.         0.         0.         0.\n",
            " 0.         0.         0.         0.         0.         0.\n",
            " 0.         0.         0.         0.         0.         0.\n",
            " 0.         0.         0.         0.         0.         0.\n",
            " 0.         0.         0.         0.         0.         0.\n",
            " 0.         0.         0.         0.         0.         0.\n",
            " 0.         0.         0.         0.         0.         0.\n",
            " 0.         0.         0.         0.        ]\n"
          ],
          "name": "stdout"
        }
      ]
    },
    {
      "cell_type": "markdown",
      "metadata": {
        "id": "w_jm9uC1VDX4",
        "colab_type": "text"
      },
      "source": [
        "# Normalización test_images"
      ]
    },
    {
      "cell_type": "code",
      "metadata": {
        "id": "M5aqqWLxVK6M",
        "colab_type": "code",
        "colab": {
          "base_uri": "https://localhost:8080/",
          "height": 136
        },
        "outputId": "e42eddd0-848c-4981-f44c-a090d0b0253c"
      },
      "source": [
        "test_images_normalized = (test_images_reshaped / norm)\n",
        "print(test_images_normalized)"
      ],
      "execution_count": 68,
      "outputs": [
        {
          "output_type": "stream",
          "text": [
            "[[0. 0. 0. ... 0. 0. 0.]\n",
            " [0. 0. 0. ... 0. 0. 0.]\n",
            " [0. 0. 0. ... 0. 0. 0.]\n",
            " ...\n",
            " [0. 0. 0. ... 0. 0. 0.]\n",
            " [0. 0. 0. ... 0. 0. 0.]\n",
            " [0. 0. 0. ... 0. 0. 0.]]\n"
          ],
          "name": "stdout"
        }
      ]
    },
    {
      "cell_type": "code",
      "metadata": {
        "id": "MPBsBia8VZ2z",
        "colab_type": "code",
        "colab": {
          "base_uri": "https://localhost:8080/",
          "height": 1000
        },
        "outputId": "68d3c8dd-e221-470c-efc7-5be151d03019"
      },
      "source": [
        "print(test_images_normalized[0])"
      ],
      "execution_count": 69,
      "outputs": [
        {
          "output_type": "stream",
          "text": [
            "[0.         0.         0.         0.         0.         0.\n",
            " 0.         0.         0.         0.         0.         0.\n",
            " 0.         0.         0.         0.         0.         0.\n",
            " 0.         0.         0.         0.         0.         0.\n",
            " 0.         0.         0.         0.         0.         0.\n",
            " 0.         0.         0.         0.         0.         0.\n",
            " 0.         0.         0.         0.         0.         0.\n",
            " 0.         0.         0.         0.         0.         0.\n",
            " 0.         0.         0.         0.         0.         0.\n",
            " 0.         0.         0.         0.         0.         0.\n",
            " 0.         0.         0.         0.         0.         0.\n",
            " 0.         0.         0.         0.         0.         0.\n",
            " 0.         0.         0.         0.         0.         0.\n",
            " 0.         0.         0.         0.         0.         0.\n",
            " 0.         0.         0.         0.         0.         0.\n",
            " 0.         0.         0.         0.         0.         0.\n",
            " 0.         0.         0.         0.         0.         0.\n",
            " 0.         0.         0.         0.         0.         0.\n",
            " 0.         0.         0.         0.         0.         0.\n",
            " 0.         0.         0.         0.         0.         0.\n",
            " 0.         0.         0.         0.         0.         0.\n",
            " 0.         0.         0.         0.         0.         0.\n",
            " 0.         0.         0.         0.         0.         0.\n",
            " 0.         0.         0.         0.         0.         0.\n",
            " 0.         0.         0.         0.         0.         0.\n",
            " 0.         0.         0.         0.         0.         0.\n",
            " 0.         0.         0.         0.         0.         0.\n",
            " 0.         0.         0.         0.         0.         0.\n",
            " 0.         0.         0.         0.         0.         0.\n",
            " 0.         0.         0.         0.         0.         0.\n",
            " 0.         0.         0.         0.         0.         0.\n",
            " 0.         0.         0.         0.         0.         0.\n",
            " 0.         0.         0.         0.         0.         0.\n",
            " 0.         0.         0.         0.         0.         0.\n",
            " 0.         0.         0.         0.         0.         0.\n",
            " 0.         0.         0.         0.         0.         0.01176471\n",
            " 0.00392157 0.         0.         0.02745098 0.         0.14509804\n",
            " 0.         0.         0.         0.         0.         0.\n",
            " 0.         0.         0.         0.         0.         0.\n",
            " 0.         0.         0.         0.00392157 0.00784314 0.\n",
            " 0.10588235 0.32941176 0.04313725 0.         0.         0.\n",
            " 0.         0.         0.         0.46666667 0.         0.\n",
            " 0.         0.         0.         0.         0.         0.\n",
            " 0.         0.         0.         0.         0.         0.\n",
            " 0.         0.00392157 0.         0.         0.34509804 0.56078431\n",
            " 0.43137255 0.         0.         0.         0.         0.08627451\n",
            " 0.36470588 0.41568627 0.         0.         0.         0.\n",
            " 0.         0.         0.         0.         0.         0.\n",
            " 0.         0.         0.         0.         0.         0.01568627\n",
            " 0.         0.20784314 0.50588235 0.47058824 0.57647059 0.68627451\n",
            " 0.61568627 0.65098039 0.52941176 0.60392157 0.65882353 0.54901961\n",
            " 0.         0.         0.         0.         0.         0.\n",
            " 0.         0.         0.         0.         0.         0.\n",
            " 0.         0.         0.00784314 0.         0.04313725 0.5372549\n",
            " 0.50980392 0.50196078 0.62745098 0.69019608 0.62352941 0.65490196\n",
            " 0.69803922 0.58431373 0.59215686 0.56470588 0.         0.\n",
            " 0.         0.         0.         0.         0.         0.\n",
            " 0.00392157 0.         0.00784314 0.00392157 0.         0.01176471\n",
            " 0.         0.         0.45098039 0.44705882 0.41568627 0.5372549\n",
            " 0.65882353 0.6        0.61176471 0.64705882 0.65490196 0.56078431\n",
            " 0.61568627 0.61960784 0.04313725 0.         0.         0.\n",
            " 0.         0.         0.00392157 0.         0.         0.\n",
            " 0.         0.         0.01176471 0.         0.         0.34901961\n",
            " 0.54509804 0.35294118 0.36862745 0.6        0.58431373 0.51372549\n",
            " 0.59215686 0.6627451  0.6745098  0.56078431 0.62352941 0.6627451\n",
            " 0.18823529 0.         0.         0.         0.         0.\n",
            " 0.         0.         0.00784314 0.01568627 0.00392157 0.\n",
            " 0.         0.         0.38431373 0.53333333 0.43137255 0.42745098\n",
            " 0.43137255 0.63529412 0.52941176 0.56470588 0.58431373 0.62352941\n",
            " 0.65490196 0.56470588 0.61960784 0.6627451  0.46666667 0.\n",
            " 0.         0.         0.00784314 0.00784314 0.00392157 0.00784314\n",
            " 0.         0.         0.         0.         0.10196078 0.42352941\n",
            " 0.45882353 0.38823529 0.43529412 0.45882353 0.53333333 0.61176471\n",
            " 0.5254902  0.60392157 0.60392157 0.61176471 0.62745098 0.55294118\n",
            " 0.57647059 0.61176471 0.69803922 0.         0.01176471 0.\n",
            " 0.         0.         0.         0.         0.         0.08235294\n",
            " 0.20784314 0.36078431 0.45882353 0.43529412 0.40392157 0.45098039\n",
            " 0.50588235 0.5254902  0.56078431 0.60392157 0.64705882 0.66666667\n",
            " 0.60392157 0.59215686 0.60392157 0.56078431 0.54117647 0.58823529\n",
            " 0.64705882 0.16862745 0.         0.         0.09019608 0.21176471\n",
            " 0.25490196 0.29803922 0.33333333 0.4627451  0.50196078 0.48235294\n",
            " 0.43529412 0.44313725 0.4627451  0.49803922 0.49019608 0.54509804\n",
            " 0.52156863 0.53333333 0.62745098 0.54901961 0.60784314 0.63137255\n",
            " 0.56470588 0.60784314 0.6745098  0.63137255 0.74117647 0.24313725\n",
            " 0.         0.26666667 0.36862745 0.35294118 0.43529412 0.44705882\n",
            " 0.43529412 0.44705882 0.45098039 0.49803922 0.52941176 0.53333333\n",
            " 0.56078431 0.49411765 0.49803922 0.59215686 0.60392157 0.56078431\n",
            " 0.58039216 0.49019608 0.63529412 0.63529412 0.56470588 0.54117647\n",
            " 0.6        0.63529412 0.76862745 0.22745098 0.2745098  0.6627451\n",
            " 0.50588235 0.40784314 0.38431373 0.39215686 0.36862745 0.38039216\n",
            " 0.38431373 0.4        0.42352941 0.41568627 0.46666667 0.47058824\n",
            " 0.50588235 0.58431373 0.61176471 0.65490196 0.74509804 0.74509804\n",
            " 0.76862745 0.77647059 0.77647059 0.73333333 0.77254902 0.74117647\n",
            " 0.72156863 0.14117647 0.0627451  0.49411765 0.67058824 0.7372549\n",
            " 0.7372549  0.72156863 0.67058824 0.6        0.52941176 0.47058824\n",
            " 0.49411765 0.49803922 0.57254902 0.7254902  0.76470588 0.81960784\n",
            " 0.81568627 1.         0.81960784 0.69411765 0.96078431 0.98823529\n",
            " 0.98431373 0.98431373 0.96862745 0.8627451  0.80784314 0.19215686\n",
            " 0.         0.         0.         0.04705882 0.2627451  0.41568627\n",
            " 0.64313725 0.7254902  0.78039216 0.82352941 0.82745098 0.82352941\n",
            " 0.81568627 0.74509804 0.58823529 0.32156863 0.03137255 0.\n",
            " 0.         0.         0.69803922 0.81568627 0.7372549  0.68627451\n",
            " 0.63529412 0.61960784 0.59215686 0.04313725 0.         0.\n",
            " 0.         0.         0.         0.         0.         0.\n",
            " 0.         0.         0.         0.         0.         0.\n",
            " 0.         0.         0.         0.         0.         0.\n",
            " 0.         0.         0.         0.         0.         0.\n",
            " 0.         0.         0.         0.         0.         0.\n",
            " 0.         0.         0.         0.         0.         0.\n",
            " 0.         0.         0.         0.         0.         0.\n",
            " 0.         0.         0.         0.         0.         0.\n",
            " 0.         0.         0.         0.         0.         0.\n",
            " 0.         0.         0.         0.         0.         0.\n",
            " 0.         0.         0.         0.         0.         0.\n",
            " 0.         0.         0.         0.         0.         0.\n",
            " 0.         0.         0.         0.         0.         0.\n",
            " 0.         0.         0.         0.         0.         0.\n",
            " 0.         0.         0.         0.         0.         0.\n",
            " 0.         0.         0.         0.         0.         0.\n",
            " 0.         0.         0.         0.         0.         0.\n",
            " 0.         0.         0.         0.         0.         0.\n",
            " 0.         0.         0.         0.         0.         0.\n",
            " 0.         0.         0.         0.         0.         0.\n",
            " 0.         0.         0.         0.         0.         0.\n",
            " 0.         0.         0.         0.         0.         0.\n",
            " 0.         0.         0.         0.         0.         0.\n",
            " 0.         0.         0.         0.         0.         0.\n",
            " 0.         0.         0.         0.         0.         0.\n",
            " 0.         0.         0.         0.         0.         0.\n",
            " 0.         0.         0.         0.         0.         0.\n",
            " 0.         0.         0.         0.        ]\n"
          ],
          "name": "stdout"
        }
      ]
    },
    {
      "cell_type": "markdown",
      "metadata": {
        "id": "9B7n1AitVpHJ",
        "colab_type": "text"
      },
      "source": [
        "# Codificación One Hot de train_labels"
      ]
    },
    {
      "cell_type": "code",
      "metadata": {
        "id": "jP4IsN6aVx9s",
        "colab_type": "code",
        "colab": {
          "base_uri": "https://localhost:8080/",
          "height": 221
        },
        "outputId": "26ba55e7-636c-421d-af1f-a375eb2bbf59"
      },
      "source": [
        "grafoonehot = tf.Graph()\n",
        "with grafoonehot.as_default():\n",
        "    # Razas constantes\n",
        "    etiquetas_grafo = tf.constant(train_labels_filtered)\n",
        "    uniques_graph, index_1 = tf.unique(etiquetas_grafo)\n",
        "    hot_graph = tf.one_hot(index_1, depth = 3)\n",
        "    max_graph = tf.reduce_max(index_1)\n",
        "\n",
        "with tf.Session(graph = grafoonehot ) as sesiononehot:\n",
        "    yunicos_s, idx_s_1, hot_s, maximo_s_1 = sesiononehot.run([uniques_graph, index_1, hot_graph, max_graph])\n",
        "    print(\"Uniques\\n\", yunicos_s)\n",
        "    print(\"Index\\n\", idx_s_1)\n",
        "    print(\"One Hot code\\n\", hot_s)"
      ],
      "execution_count": 79,
      "outputs": [
        {
          "output_type": "stream",
          "text": [
            "Uniques\n",
            " [9 7 8]\n",
            "Index\n",
            " [0 1 0 ... 1 1 2]\n",
            "One Hot code\n",
            " [[1. 0. 0.]\n",
            " [0. 1. 0.]\n",
            " [1. 0. 0.]\n",
            " ...\n",
            " [0. 1. 0.]\n",
            " [0. 1. 0.]\n",
            " [0. 0. 1.]]\n"
          ],
          "name": "stdout"
        }
      ]
    },
    {
      "cell_type": "markdown",
      "metadata": {
        "id": "9L8CzXTLXvPZ",
        "colab_type": "text"
      },
      "source": [
        "# Codificación One Hot de test_labels"
      ]
    },
    {
      "cell_type": "code",
      "metadata": {
        "id": "Bt-5JlzYX0_t",
        "colab_type": "code",
        "colab": {
          "base_uri": "https://localhost:8080/",
          "height": 221
        },
        "outputId": "86391de6-d09d-4ae6-8578-16750821cfcf"
      },
      "source": [
        "grafoonehot_te_l = tf.Graph()\n",
        "with grafoonehot_te_l.as_default():\n",
        "    # Razas constantes\n",
        "    etiquetas_g_te_l = tf.constant(test_labels_filtered)\n",
        "    yunicos_g_te_l, idx_g_te_l = tf.unique(etiquetas_g_te_l)\n",
        "    hot_g_te_l = tf.one_hot(idx_g_te_l, depth = 3)\n",
        "    maximo_g_te_l = tf.reduce_max(idx_g_te_l)\n",
        "\n",
        "with tf.Session(graph = grafoonehot_te_l ) as sesiononehot_te_l:\n",
        "    yunicos_s_te_l, idx_s_te_l, hot_s_te_l, maximo_s_te_l = sesiononehot_te_l.run([yunicos_g_te_l, idx_g_te_l, hot_g_te_l, maximo_g_te_l])\n",
        "    print(\"Unique\\n\", yunicos_s_te_l)\n",
        "    print(\"Index\\n\", idx_s_te_l)\n",
        "    print(\"One Hot code\\n\", hot_s_te_l)"
      ],
      "execution_count": 80,
      "outputs": [
        {
          "output_type": "stream",
          "text": [
            "Unique\n",
            " [9 7 8]\n",
            "Index\n",
            " [0 1 1 ... 0 0 2]\n",
            "One Hot code\n",
            " [[1. 0. 0.]\n",
            " [0. 1. 0.]\n",
            " [0. 1. 0.]\n",
            " ...\n",
            " [1. 0. 0.]\n",
            " [1. 0. 0.]\n",
            " [0. 0. 1.]]\n"
          ],
          "name": "stdout"
        }
      ]
    },
    {
      "cell_type": "markdown",
      "metadata": {
        "id": "-AMKrBNdYtR6",
        "colab_type": "text"
      },
      "source": [
        "# Diccionario"
      ]
    },
    {
      "cell_type": "code",
      "metadata": {
        "id": "Xixg08GfYuhr",
        "colab_type": "code",
        "colab": {
          "base_uri": "https://localhost:8080/",
          "height": 34
        },
        "outputId": "0b48c5a7-7568-42bc-96a9-c7099f466c53"
      },
      "source": [
        "dictionary = {0:\"Ankle boot\", 1:\"Sneaker\", 2:\"Bag\"}\n"
      ],
      "execution_count": 81,
      "outputs": [
        {
          "output_type": "stream",
          "text": [
            "{0: 'Ankle boot', 1: 'Sneaker', 2: 'Bag'}\n"
          ],
          "name": "stdout"
        }
      ]
    },
    {
      "cell_type": "markdown",
      "metadata": {
        "id": "cI88-1lzY5_m",
        "colab_type": "text"
      },
      "source": [
        "Hiperparámetros"
      ]
    },
    {
      "cell_type": "code",
      "metadata": {
        "id": "CrMfzlNOY7aX",
        "colab_type": "code",
        "colab": {}
      },
      "source": [
        "param_epochs = 10\n",
        "param_batch_size = 32\n",
        "param_lr = 0.01\n",
        "batches = int(train_images_normalized.shape[0] / param_batch_size)"
      ],
      "execution_count": 82,
      "outputs": []
    },
    {
      "cell_type": "markdown",
      "metadata": {
        "id": "_QazOwXaZPem",
        "colab_type": "text"
      },
      "source": [
        "# Softmax Graph normalized data"
      ]
    },
    {
      "cell_type": "code",
      "metadata": {
        "id": "U0fD-KeNZTlX",
        "colab_type": "code",
        "colab": {
          "base_uri": "https://localhost:8080/",
          "height": 1000
        },
        "outputId": "b803f157-11a9-41b5-c069-0fc0ead854ef"
      },
      "source": [
        "ft_max_graph = tf.Graph()\n",
        "with ft_max_graph.as_default():\n",
        "    with tf.name_scope('Placeholder_Declaration'):    \n",
        "        x_value = 784\n",
        "        x_axis = tf.placeholder(tf.float32, [None, x_value], name='X')\n",
        "    \n",
        "        y_value = 3\n",
        "        y_axis = tf.placeholder(tf.float32, [None, y_value], name='y_axis')\n",
        "    \n",
        "        learning_rate = tf.placeholder(dtype = tf.float64, name='LR')\n",
        "    \n",
        "    with tf.name_scope('Variables_Declaration'):\n",
        "        w_axis = tf.Variable(tf.zeros([x_value, y_value]), name = 'W')\n",
        "    \n",
        "        vector_b = tf.Variable(tf.zeros([y_value]), name = 'B')\n",
        "    \n",
        "    with tf.name_scope('Hypothesis'):   \n",
        "        # Logits\n",
        "        logits_graph = tf.add(tf.matmul(x_axis, w_axis, name='Hypothesis_Dot_Product'), vector_b, name='Hypothesis_Plus_B')\n",
        "        yhat_graph = tf.nn.softmax(logits_graph, name='Softmax_Hypothesis')\n",
        "    \n",
        "    with tf.name_scope('Cost_Function'):\n",
        "        cost_graph = (tf.reduce_mean(-tf.reduce_sum(y_axis * tf.log(yhat_graph), axis = 1)))\n",
        "    \n",
        "    with tf.name_scope('Gradient_Des.Optimizer'):\n",
        "        cost_summary_graph = tf.summary.scalar(name = 'Cost', tensor = cost_graph)\n",
        "        optimization = tf.train.GradientDescentOptimizer(learning_rate).minimize(cost_graph)\n",
        "    \n",
        "    prediction = tf.equal(tf.argmax(yhat_graph,1), tf.argmax(y_axis,1))\n",
        "    accuracy_var = tf.reduce_mean(tf.cast(prediction, tf.float32)) \n",
        "    \n",
        "    accuracy_summary_graph = tf.summary.scalar('Accuracy',accuracy_var)\n",
        "    \n",
        "    summaries_graph = tf.summary.merge_all()\n",
        "\n",
        "\n",
        "with tf.Session(graph = ft_max_graph) as session:\n",
        "    # Variables Initializer\n",
        "    tf.global_variables_initializer().run()\n",
        "    \n",
        "    # Log\n",
        "    writer = tf.summary.FileWriter('gdrive/My Drive/Colab Notebooks/graphs/graph', session.graph)\n",
        "    \n",
        "    for epoch_count in range(param_epochs):\n",
        "        for i in range(batches):\n",
        "            offset_var = i * epoch_count \n",
        "            x = train_images_normalized[offset_var: offset_var + param_batch_size] \n",
        "            y = hot_s_te_l[offset_var: offset_var + param_batch_size] \n",
        "            _, final_W, final_B,ac = session.run([optimization, w_axis,vector_b,accuracy_var], feed_dict={x_axis:x, y_axis:y, learning_rate:0.001})\n",
        "            cost_var = session.run(cost_graph, feed_dict={x_axis:x, y_axis:y})\n",
        "                        \n",
        "            summaries_s_var = session.run(summaries_graph, feed_dict={x_axis:x, y_axis:y, learning_rate:0.001})\n",
        "            writer.add_summary(summaries_s_var, i)\n",
        "                                   \n",
        "        if (epoch_count % 1 == 0):\n",
        "            print('Iteracion:', epoch_count, 'Costo:', cost_var)\n",
        "        \n",
        "    writer.close()\n",
        "        \n",
        "    print('Accuracy\\n', ac)"
      ],
      "execution_count": 102,
      "outputs": [
        {
          "output_type": "stream",
          "text": [
            "Iteracion: 0 Costo: 0.8055301\n",
            "Iteracion: 1 Costo: 1.1015984\n",
            "Iteracion: 2 Costo: 1.1028444\n",
            "Iteracion: 3 Costo: 1.0867188\n",
            "Iteracion: 4 Costo: 1.0432937\n",
            "Iteracion: 5 Costo: 1.1343567\n"
          ],
          "name": "stdout"
        },
        {
          "output_type": "error",
          "ename": "InvalidArgumentError",
          "evalue": "ignored",
          "traceback": [
            "\u001b[0;31m---------------------------------------------------------------------------\u001b[0m",
            "\u001b[0;31mInvalidArgumentError\u001b[0m                      Traceback (most recent call last)",
            "\u001b[0;32m/usr/local/lib/python3.6/dist-packages/tensorflow/python/client/session.py\u001b[0m in \u001b[0;36m_do_call\u001b[0;34m(self, fn, *args)\u001b[0m\n\u001b[1;32m   1364\u001b[0m     \u001b[0;32mtry\u001b[0m\u001b[0;34m:\u001b[0m\u001b[0;34m\u001b[0m\u001b[0;34m\u001b[0m\u001b[0m\n\u001b[0;32m-> 1365\u001b[0;31m       \u001b[0;32mreturn\u001b[0m \u001b[0mfn\u001b[0m\u001b[0;34m(\u001b[0m\u001b[0;34m*\u001b[0m\u001b[0margs\u001b[0m\u001b[0;34m)\u001b[0m\u001b[0;34m\u001b[0m\u001b[0;34m\u001b[0m\u001b[0m\n\u001b[0m\u001b[1;32m   1366\u001b[0m     \u001b[0;32mexcept\u001b[0m \u001b[0merrors\u001b[0m\u001b[0;34m.\u001b[0m\u001b[0mOpError\u001b[0m \u001b[0;32mas\u001b[0m \u001b[0me\u001b[0m\u001b[0;34m:\u001b[0m\u001b[0;34m\u001b[0m\u001b[0;34m\u001b[0m\u001b[0m\n",
            "\u001b[0;32m/usr/local/lib/python3.6/dist-packages/tensorflow/python/client/session.py\u001b[0m in \u001b[0;36m_run_fn\u001b[0;34m(feed_dict, fetch_list, target_list, options, run_metadata)\u001b[0m\n\u001b[1;32m   1349\u001b[0m       return self._call_tf_sessionrun(options, feed_dict, fetch_list,\n\u001b[0;32m-> 1350\u001b[0;31m                                       target_list, run_metadata)\n\u001b[0m\u001b[1;32m   1351\u001b[0m \u001b[0;34m\u001b[0m\u001b[0m\n",
            "\u001b[0;32m/usr/local/lib/python3.6/dist-packages/tensorflow/python/client/session.py\u001b[0m in \u001b[0;36m_call_tf_sessionrun\u001b[0;34m(self, options, feed_dict, fetch_list, target_list, run_metadata)\u001b[0m\n\u001b[1;32m   1442\u001b[0m                                             \u001b[0mfetch_list\u001b[0m\u001b[0;34m,\u001b[0m \u001b[0mtarget_list\u001b[0m\u001b[0;34m,\u001b[0m\u001b[0;34m\u001b[0m\u001b[0;34m\u001b[0m\u001b[0m\n\u001b[0;32m-> 1443\u001b[0;31m                                             run_metadata)\n\u001b[0m\u001b[1;32m   1444\u001b[0m \u001b[0;34m\u001b[0m\u001b[0m\n",
            "\u001b[0;31mInvalidArgumentError\u001b[0m: Incompatible shapes: [32,3] vs. [30,3]\n\t [[{{node Cost_Function/mul}}]]",
            "\nDuring handling of the above exception, another exception occurred:\n",
            "\u001b[0;31mInvalidArgumentError\u001b[0m                      Traceback (most recent call last)",
            "\u001b[0;32m<ipython-input-102-0104a669dd2f>\u001b[0m in \u001b[0;36m<module>\u001b[0;34m()\u001b[0m\n\u001b[1;32m     47\u001b[0m             \u001b[0mx\u001b[0m \u001b[0;34m=\u001b[0m \u001b[0mtrain_images_normalized\u001b[0m\u001b[0;34m[\u001b[0m\u001b[0moffset_var\u001b[0m\u001b[0;34m:\u001b[0m \u001b[0moffset_var\u001b[0m \u001b[0;34m+\u001b[0m \u001b[0mparam_batch_size\u001b[0m\u001b[0;34m]\u001b[0m\u001b[0;34m\u001b[0m\u001b[0;34m\u001b[0m\u001b[0m\n\u001b[1;32m     48\u001b[0m             \u001b[0my\u001b[0m \u001b[0;34m=\u001b[0m \u001b[0mhot_s_te_l\u001b[0m\u001b[0;34m[\u001b[0m\u001b[0moffset_var\u001b[0m\u001b[0;34m:\u001b[0m \u001b[0moffset_var\u001b[0m \u001b[0;34m+\u001b[0m \u001b[0mparam_batch_size\u001b[0m\u001b[0;34m]\u001b[0m\u001b[0;34m\u001b[0m\u001b[0;34m\u001b[0m\u001b[0m\n\u001b[0;32m---> 49\u001b[0;31m             \u001b[0m_\u001b[0m\u001b[0;34m,\u001b[0m \u001b[0mfinal_W\u001b[0m\u001b[0;34m,\u001b[0m \u001b[0mfinal_B\u001b[0m\u001b[0;34m,\u001b[0m\u001b[0mac\u001b[0m \u001b[0;34m=\u001b[0m \u001b[0msession\u001b[0m\u001b[0;34m.\u001b[0m\u001b[0mrun\u001b[0m\u001b[0;34m(\u001b[0m\u001b[0;34m[\u001b[0m\u001b[0moptimization\u001b[0m\u001b[0;34m,\u001b[0m \u001b[0mw_axis\u001b[0m\u001b[0;34m,\u001b[0m\u001b[0mvector_b\u001b[0m\u001b[0;34m,\u001b[0m\u001b[0maccuracy_var\u001b[0m\u001b[0;34m]\u001b[0m\u001b[0;34m,\u001b[0m \u001b[0mfeed_dict\u001b[0m\u001b[0;34m=\u001b[0m\u001b[0;34m{\u001b[0m\u001b[0mx_axis\u001b[0m\u001b[0;34m:\u001b[0m\u001b[0mx\u001b[0m\u001b[0;34m,\u001b[0m \u001b[0my_axis\u001b[0m\u001b[0;34m:\u001b[0m\u001b[0my\u001b[0m\u001b[0;34m,\u001b[0m \u001b[0mlearning_rate\u001b[0m\u001b[0;34m:\u001b[0m\u001b[0;36m0.001\u001b[0m\u001b[0;34m}\u001b[0m\u001b[0;34m)\u001b[0m\u001b[0;34m\u001b[0m\u001b[0;34m\u001b[0m\u001b[0m\n\u001b[0m\u001b[1;32m     50\u001b[0m             \u001b[0mcost_var\u001b[0m \u001b[0;34m=\u001b[0m \u001b[0msession\u001b[0m\u001b[0;34m.\u001b[0m\u001b[0mrun\u001b[0m\u001b[0;34m(\u001b[0m\u001b[0mcost_graph\u001b[0m\u001b[0;34m,\u001b[0m \u001b[0mfeed_dict\u001b[0m\u001b[0;34m=\u001b[0m\u001b[0;34m{\u001b[0m\u001b[0mx_axis\u001b[0m\u001b[0;34m:\u001b[0m\u001b[0mx\u001b[0m\u001b[0;34m,\u001b[0m \u001b[0my_axis\u001b[0m\u001b[0;34m:\u001b[0m\u001b[0my\u001b[0m\u001b[0;34m}\u001b[0m\u001b[0;34m)\u001b[0m\u001b[0;34m\u001b[0m\u001b[0;34m\u001b[0m\u001b[0m\n\u001b[1;32m     51\u001b[0m \u001b[0;34m\u001b[0m\u001b[0m\n",
            "\u001b[0;32m/usr/local/lib/python3.6/dist-packages/tensorflow/python/client/session.py\u001b[0m in \u001b[0;36mrun\u001b[0;34m(self, fetches, feed_dict, options, run_metadata)\u001b[0m\n\u001b[1;32m    956\u001b[0m     \u001b[0;32mtry\u001b[0m\u001b[0;34m:\u001b[0m\u001b[0;34m\u001b[0m\u001b[0;34m\u001b[0m\u001b[0m\n\u001b[1;32m    957\u001b[0m       result = self._run(None, fetches, feed_dict, options_ptr,\n\u001b[0;32m--> 958\u001b[0;31m                          run_metadata_ptr)\n\u001b[0m\u001b[1;32m    959\u001b[0m       \u001b[0;32mif\u001b[0m \u001b[0mrun_metadata\u001b[0m\u001b[0;34m:\u001b[0m\u001b[0;34m\u001b[0m\u001b[0;34m\u001b[0m\u001b[0m\n\u001b[1;32m    960\u001b[0m         \u001b[0mproto_data\u001b[0m \u001b[0;34m=\u001b[0m \u001b[0mtf_session\u001b[0m\u001b[0;34m.\u001b[0m\u001b[0mTF_GetBuffer\u001b[0m\u001b[0;34m(\u001b[0m\u001b[0mrun_metadata_ptr\u001b[0m\u001b[0;34m)\u001b[0m\u001b[0;34m\u001b[0m\u001b[0;34m\u001b[0m\u001b[0m\n",
            "\u001b[0;32m/usr/local/lib/python3.6/dist-packages/tensorflow/python/client/session.py\u001b[0m in \u001b[0;36m_run\u001b[0;34m(self, handle, fetches, feed_dict, options, run_metadata)\u001b[0m\n\u001b[1;32m   1179\u001b[0m     \u001b[0;32mif\u001b[0m \u001b[0mfinal_fetches\u001b[0m \u001b[0;32mor\u001b[0m \u001b[0mfinal_targets\u001b[0m \u001b[0;32mor\u001b[0m \u001b[0;34m(\u001b[0m\u001b[0mhandle\u001b[0m \u001b[0;32mand\u001b[0m \u001b[0mfeed_dict_tensor\u001b[0m\u001b[0;34m)\u001b[0m\u001b[0;34m:\u001b[0m\u001b[0;34m\u001b[0m\u001b[0;34m\u001b[0m\u001b[0m\n\u001b[1;32m   1180\u001b[0m       results = self._do_run(handle, final_targets, final_fetches,\n\u001b[0;32m-> 1181\u001b[0;31m                              feed_dict_tensor, options, run_metadata)\n\u001b[0m\u001b[1;32m   1182\u001b[0m     \u001b[0;32melse\u001b[0m\u001b[0;34m:\u001b[0m\u001b[0;34m\u001b[0m\u001b[0;34m\u001b[0m\u001b[0m\n\u001b[1;32m   1183\u001b[0m       \u001b[0mresults\u001b[0m \u001b[0;34m=\u001b[0m \u001b[0;34m[\u001b[0m\u001b[0;34m]\u001b[0m\u001b[0;34m\u001b[0m\u001b[0;34m\u001b[0m\u001b[0m\n",
            "\u001b[0;32m/usr/local/lib/python3.6/dist-packages/tensorflow/python/client/session.py\u001b[0m in \u001b[0;36m_do_run\u001b[0;34m(self, handle, target_list, fetch_list, feed_dict, options, run_metadata)\u001b[0m\n\u001b[1;32m   1357\u001b[0m     \u001b[0;32mif\u001b[0m \u001b[0mhandle\u001b[0m \u001b[0;32mis\u001b[0m \u001b[0;32mNone\u001b[0m\u001b[0;34m:\u001b[0m\u001b[0;34m\u001b[0m\u001b[0;34m\u001b[0m\u001b[0m\n\u001b[1;32m   1358\u001b[0m       return self._do_call(_run_fn, feeds, fetches, targets, options,\n\u001b[0;32m-> 1359\u001b[0;31m                            run_metadata)\n\u001b[0m\u001b[1;32m   1360\u001b[0m     \u001b[0;32melse\u001b[0m\u001b[0;34m:\u001b[0m\u001b[0;34m\u001b[0m\u001b[0;34m\u001b[0m\u001b[0m\n\u001b[1;32m   1361\u001b[0m       \u001b[0;32mreturn\u001b[0m \u001b[0mself\u001b[0m\u001b[0;34m.\u001b[0m\u001b[0m_do_call\u001b[0m\u001b[0;34m(\u001b[0m\u001b[0m_prun_fn\u001b[0m\u001b[0;34m,\u001b[0m \u001b[0mhandle\u001b[0m\u001b[0;34m,\u001b[0m \u001b[0mfeeds\u001b[0m\u001b[0;34m,\u001b[0m \u001b[0mfetches\u001b[0m\u001b[0;34m)\u001b[0m\u001b[0;34m\u001b[0m\u001b[0;34m\u001b[0m\u001b[0m\n",
            "\u001b[0;32m/usr/local/lib/python3.6/dist-packages/tensorflow/python/client/session.py\u001b[0m in \u001b[0;36m_do_call\u001b[0;34m(self, fn, *args)\u001b[0m\n\u001b[1;32m   1382\u001b[0m                     \u001b[0;34m'\\nsession_config.graph_options.rewrite_options.'\u001b[0m\u001b[0;34m\u001b[0m\u001b[0;34m\u001b[0m\u001b[0m\n\u001b[1;32m   1383\u001b[0m                     'disable_meta_optimizer = True')\n\u001b[0;32m-> 1384\u001b[0;31m       \u001b[0;32mraise\u001b[0m \u001b[0mtype\u001b[0m\u001b[0;34m(\u001b[0m\u001b[0me\u001b[0m\u001b[0;34m)\u001b[0m\u001b[0;34m(\u001b[0m\u001b[0mnode_def\u001b[0m\u001b[0;34m,\u001b[0m \u001b[0mop\u001b[0m\u001b[0;34m,\u001b[0m \u001b[0mmessage\u001b[0m\u001b[0;34m)\u001b[0m\u001b[0;34m\u001b[0m\u001b[0;34m\u001b[0m\u001b[0m\n\u001b[0m\u001b[1;32m   1385\u001b[0m \u001b[0;34m\u001b[0m\u001b[0m\n\u001b[1;32m   1386\u001b[0m   \u001b[0;32mdef\u001b[0m \u001b[0m_extend_graph\u001b[0m\u001b[0;34m(\u001b[0m\u001b[0mself\u001b[0m\u001b[0;34m)\u001b[0m\u001b[0;34m:\u001b[0m\u001b[0;34m\u001b[0m\u001b[0;34m\u001b[0m\u001b[0m\n",
            "\u001b[0;31mInvalidArgumentError\u001b[0m: Incompatible shapes: [32,3] vs. [30,3]\n\t [[node Cost_Function/mul (defined at <ipython-input-102-0104a669dd2f>:23) ]]\n\nErrors may have originated from an input operation.\nInput Source operations connected to node Cost_Function/mul:\n Placeholder_Declaration/y_axis (defined at <ipython-input-102-0104a669dd2f>:8)\n\nOriginal stack trace for 'Cost_Function/mul':\n  File \"/usr/lib/python3.6/runpy.py\", line 193, in _run_module_as_main\n    \"__main__\", mod_spec)\n  File \"/usr/lib/python3.6/runpy.py\", line 85, in _run_code\n    exec(code, run_globals)\n  File \"/usr/local/lib/python3.6/dist-packages/ipykernel_launcher.py\", line 16, in <module>\n    app.launch_new_instance()\n  File \"/usr/local/lib/python3.6/dist-packages/traitlets/config/application.py\", line 664, in launch_instance\n    app.start()\n  File \"/usr/local/lib/python3.6/dist-packages/ipykernel/kernelapp.py\", line 499, in start\n    self.io_loop.start()\n  File \"/usr/local/lib/python3.6/dist-packages/tornado/ioloop.py\", line 888, in start\n    handler_func(fd_obj, events)\n  File \"/usr/local/lib/python3.6/dist-packages/tornado/stack_context.py\", line 277, in null_wrapper\n    return fn(*args, **kwargs)\n  File \"/usr/local/lib/python3.6/dist-packages/zmq/eventloop/zmqstream.py\", line 456, in _handle_events\n    self._handle_recv()\n  File \"/usr/local/lib/python3.6/dist-packages/zmq/eventloop/zmqstream.py\", line 486, in _handle_recv\n    self._run_callback(callback, msg)\n  File \"/usr/local/lib/python3.6/dist-packages/zmq/eventloop/zmqstream.py\", line 438, in _run_callback\n    callback(*args, **kwargs)\n  File \"/usr/local/lib/python3.6/dist-packages/tornado/stack_context.py\", line 277, in null_wrapper\n    return fn(*args, **kwargs)\n  File \"/usr/local/lib/python3.6/dist-packages/ipykernel/kernelbase.py\", line 283, in dispatcher\n    return self.dispatch_shell(stream, msg)\n  File \"/usr/local/lib/python3.6/dist-packages/ipykernel/kernelbase.py\", line 233, in dispatch_shell\n    handler(stream, idents, msg)\n  File \"/usr/local/lib/python3.6/dist-packages/ipykernel/kernelbase.py\", line 399, in execute_request\n    user_expressions, allow_stdin)\n  File \"/usr/local/lib/python3.6/dist-packages/ipykernel/ipkernel.py\", line 208, in do_execute\n    res = shell.run_cell(code, store_history=store_history, silent=silent)\n  File \"/usr/local/lib/python3.6/dist-packages/ipykernel/zmqshell.py\", line 537, in run_cell\n    return super(ZMQInteractiveShell, self).run_cell(*args, **kwargs)\n  File \"/usr/local/lib/python3.6/dist-packages/IPython/core/interactiveshell.py\", line 2718, in run_cell\n    interactivity=interactivity, compiler=compiler, result=result)\n  File \"/usr/local/lib/python3.6/dist-packages/IPython/core/interactiveshell.py\", line 2822, in run_ast_nodes\n    if self.run_code(code, result):\n  File \"/usr/local/lib/python3.6/dist-packages/IPython/core/interactiveshell.py\", line 2882, in run_code\n    exec(code_obj, self.user_global_ns, self.user_ns)\n  File \"<ipython-input-102-0104a669dd2f>\", line 23, in <module>\n    cost_graph = (tf.reduce_mean(-tf.reduce_sum(y_axis * tf.log(yhat_graph), axis = 1)))\n  File \"/usr/local/lib/python3.6/dist-packages/tensorflow/python/ops/math_ops.py\", line 984, in binary_op_wrapper\n    return func(x, y, name=name)\n  File \"/usr/local/lib/python3.6/dist-packages/tensorflow/python/ops/math_ops.py\", line 1283, in _mul_dispatch\n    return gen_math_ops.mul(x, y, name=name)\n  File \"/usr/local/lib/python3.6/dist-packages/tensorflow/python/ops/gen_math_ops.py\", line 6092, in mul\n    \"Mul\", x=x, y=y, name=name)\n  File \"/usr/local/lib/python3.6/dist-packages/tensorflow/python/framework/op_def_library.py\", line 744, in _apply_op_helper\n    attrs=attr_protos, op_def=op_def)\n  File \"/usr/local/lib/python3.6/dist-packages/tensorflow/python/framework/ops.py\", line 3327, in _create_op_internal\n    op_def=op_def)\n  File \"/usr/local/lib/python3.6/dist-packages/tensorflow/python/framework/ops.py\", line 1791, in __init__\n    self._traceback = tf_stack.extract_stack()\n"
          ]
        }
      ]
    },
    {
      "cell_type": "markdown",
      "metadata": {
        "id": "d8WH1CZlmCiu",
        "colab_type": "text"
      },
      "source": [
        "# Predictive Function"
      ]
    },
    {
      "cell_type": "code",
      "metadata": {
        "id": "56VjVVTpmy7k",
        "colab_type": "code",
        "colab": {}
      },
      "source": [
        "def predict(X_value, W_value, B_value):\n",
        "    logits_values = np.matmul(X_value,W_value) + B_value \n",
        "    softmax_value = np.exp(logits_values)/np.sum(np.exp(logits_values), axis = 1, keepdims = True)\n",
        "    \n",
        "    size1 = 5\n",
        "    size2 = 10\n",
        "    plt.figure(figsize=(size1, size2))\n",
        "    reshape_size = 28\n",
        "    plt.imshow(X_value.reshape(reshape_size, reshape_size), cmap='gray')\n",
        "    plt.xlabel(dictionary[np.argmax(softmax_value)])\n",
        "    plt.title('Probability')\n",
        "    plt.title(np.max(softmax_value,axis=1))\n",
        "    plt.show()\n",
        "    \n",
        "    return softmax_value"
      ],
      "execution_count": 107,
      "outputs": []
    },
    {
      "cell_type": "markdown",
      "metadata": {
        "id": "9Y_lStgpm2fM",
        "colab_type": "text"
      },
      "source": [
        "# Normalized data prediction"
      ]
    },
    {
      "cell_type": "markdown",
      "metadata": {
        "id": "t0BHX2mIm8vW",
        "colab_type": "text"
      },
      "source": [
        "Image 1"
      ]
    },
    {
      "cell_type": "code",
      "metadata": {
        "id": "tjNogoA_m0eo",
        "colab_type": "code",
        "colab": {
          "base_uri": "https://localhost:8080/",
          "height": 408
        },
        "outputId": "7582511d-a513-459d-a222-abf549fa432d"
      },
      "source": [
        "random_init = 0\n",
        "random_finish = 2999\n",
        "reshape_init = 1\n",
        "reshape_finish = 784\n",
        "prediccion_image_1 = predict(test_images_normalized[np.random.randint(random_init, random_finish)].reshape(reshape_init, reshape_finish),final_W,final_B)\n",
        "prediccion_image_1"
      ],
      "execution_count": 123,
      "outputs": [
        {
          "output_type": "stream",
          "text": [
            "/usr/local/lib/python3.6/dist-packages/matplotlib/text.py:1165: FutureWarning: elementwise comparison failed; returning scalar instead, but in the future will perform elementwise comparison\n",
            "  if s != self._text:\n"
          ],
          "name": "stderr"
        },
        {
          "output_type": "display_data",
          "data": {
            "image/png": "[encoded data removed]",
            "text/plain": [
              "<Figure size 360x720 with 1 Axes>"
            ]
          },
          "metadata": {
            "tags": [],
            "needs_background": "light"
          }
        },
        {
          "output_type": "execute_result",
          "data": {
            "text/plain": [
              "array([[0.31004841, 0.34870319, 0.34124841]])"
            ]
          },
          "metadata": {
            "tags": []
          },
          "execution_count": 123
        }
      ]
    },
    {
      "cell_type": "markdown",
      "metadata": {
        "id": "GcVRU0pKome1",
        "colab_type": "text"
      },
      "source": [
        "Image 2"
      ]
    },
    {
      "cell_type": "code",
      "metadata": {
        "id": "dHaDYzCfn9g7",
        "colab_type": "code",
        "colab": {
          "base_uri": "https://localhost:8080/",
          "height": 408
        },
        "outputId": "18cd4058-bf52-4539-830d-4521f26fad6d"
      },
      "source": [
        "prediccion_image_2 = predict(test_images_normalized[np.random.randint(random_init, random_finish)].reshape(reshape_init, reshape_finish), final_W,final_B)\n",
        "prediccion_image_2"
      ],
      "execution_count": 121,
      "outputs": [
        {
          "output_type": "stream",
          "text": [
            "/usr/local/lib/python3.6/dist-packages/matplotlib/text.py:1165: FutureWarning: elementwise comparison failed; returning scalar instead, but in the future will perform elementwise comparison\n",
            "  if s != self._text:\n"
          ],
          "name": "stderr"
        },
        {
          "output_type": "display_data",
          "data": {
            "image/png": "[encoded data removed]",
            "text/plain": [
              "<Figure size 360x720 with 1 Axes>"
            ]
          },
          "metadata": {
            "tags": [],
            "needs_background": "light"
          }
        },
        {
          "output_type": "execute_result",
          "data": {
            "text/plain": [
              "array([[0.27211473, 0.35212602, 0.37575924]])"
            ]
          },
          "metadata": {
            "tags": []
          },
          "execution_count": 121
        }
      ]
    },
    {
      "cell_type": "markdown",
      "metadata": {
        "id": "UXHDs7VWon8r",
        "colab_type": "text"
      },
      "source": [
        "Image 3"
      ]
    },
    {
      "cell_type": "code",
      "metadata": {
        "id": "Kx3IZc_4oZEx",
        "colab_type": "code",
        "colab": {
          "base_uri": "https://localhost:8080/",
          "height": 408
        },
        "outputId": "d9c3359f-f458-4e1b-afeb-81343783fad6"
      },
      "source": [
        "prediccion_image_3 = predict(test_images_normalized[np.random.randint(random_init, random_finish)].reshape(reshape_init, reshape_finish), final_W,final_B)\n",
        "prediccion_image_3"
      ],
      "execution_count": 122,
      "outputs": [
        {
          "output_type": "stream",
          "text": [
            "/usr/local/lib/python3.6/dist-packages/matplotlib/text.py:1165: FutureWarning: elementwise comparison failed; returning scalar instead, but in the future will perform elementwise comparison\n",
            "  if s != self._text:\n"
          ],
          "name": "stderr"
        },
        {
          "output_type": "display_data",
          "data": {
            "image/png": "[encoded data removed]",
            "text/plain": [
              "<Figure size 360x720 with 1 Axes>"
            ]
          },
          "metadata": {
            "tags": [],
            "needs_background": "light"
          }
        },
        {
          "output_type": "execute_result",
          "data": {
            "text/plain": [
              "array([[0.25503212, 0.3762566 , 0.36871127]])"
            ]
          },
          "metadata": {
            "tags": []
          },
          "execution_count": 122
        }
      ]
    },
    {
      "cell_type": "markdown",
      "metadata": {
        "id": "Q-ZPdcA0ohOX",
        "colab_type": "text"
      },
      "source": [
        "Image 4"
      ]
    },
    {
      "cell_type": "code",
      "metadata": {
        "id": "Dg7wX4cToryW",
        "colab_type": "code",
        "colab": {
          "base_uri": "https://localhost:8080/",
          "height": 408
        },
        "outputId": "f9750e2e-4ecc-4489-d124-672f9dec0e55"
      },
      "source": [
        "prediccion_image_4 = predict(test_images_normalized[np.random.randint(random_init, random_finish)].reshape(reshape_init, reshape_finish), final_W,final_B)\n",
        "prediccion_image_4"
      ],
      "execution_count": 146,
      "outputs": [
        {
          "output_type": "stream",
          "text": [
            "/usr/local/lib/python3.6/dist-packages/matplotlib/text.py:1165: FutureWarning: elementwise comparison failed; returning scalar instead, but in the future will perform elementwise comparison\n",
            "  if s != self._text:\n"
          ],
          "name": "stderr"
        },
        {
          "output_type": "display_data",
          "data": {
            "image/png": "[encoded data removed]",
            "text/plain": [
              "<Figure size 360x720 with 1 Axes>"
            ]
          },
          "metadata": {
            "tags": [],
            "needs_background": "light"
          }
        },
        {
          "output_type": "execute_result",
          "data": {
            "text/plain": [
              "array([[0.31375516, 0.293835  , 0.39240985]])"
            ]
          },
          "metadata": {
            "tags": []
          },
          "execution_count": 146
        }
      ]
    },
    {
      "cell_type": "markdown",
      "metadata": {
        "id": "59I2ES0UoxTj",
        "colab_type": "text"
      },
      "source": [
        "Image 5"
      ]
    },
    {
      "cell_type": "code",
      "metadata": {
        "id": "LLU-6t_Toyn0",
        "colab_type": "code",
        "colab": {
          "base_uri": "https://localhost:8080/",
          "height": 408
        },
        "outputId": "4d83f676-eb07-421d-a5da-3ebbdf0a7d56"
      },
      "source": [
        "prediccion_5 = predict(test_images_normalized[np.random.randint(random_init, random_finish)].reshape(reshape_init,784),final_W,final_B)\n",
        "prediccion_5"
      ],
      "execution_count": 137,
      "outputs": [
        {
          "output_type": "stream",
          "text": [
            "/usr/local/lib/python3.6/dist-packages/matplotlib/text.py:1165: FutureWarning: elementwise comparison failed; returning scalar instead, but in the future will perform elementwise comparison\n",
            "  if s != self._text:\n"
          ],
          "name": "stderr"
        },
        {
          "output_type": "display_data",
          "data": {
            "image/png": "[encoded data removed]",
            "text/plain": [
              "<Figure size 360x720 with 1 Axes>"
            ]
          },
          "metadata": {
            "tags": [],
            "needs_background": "light"
          }
        },
        {
          "output_type": "execute_result",
          "data": {
            "text/plain": [
              "array([[0.33346648, 0.26935447, 0.39717905]])"
            ]
          },
          "metadata": {
            "tags": []
          },
          "execution_count": 137
        }
      ]
    },
    {
      "cell_type": "markdown",
      "metadata": {
        "id": "MuPZbfNpprs2",
        "colab_type": "text"
      },
      "source": [
        "# Hiperparámetros"
      ]
    },
    {
      "cell_type": "code",
      "metadata": {
        "id": "GWepkwzopvD6",
        "colab_type": "code",
        "colab": {}
      },
      "source": [
        "epochs_soft = 10\n",
        "batch_size_soft = 32\n",
        "batches_soft = int(train_images_reshaped.shape[0] / batch_size_soft)"
      ],
      "execution_count": 138,
      "outputs": []
    },
    {
      "cell_type": "code",
      "metadata": {
        "id": "GNj94xGKpwkQ",
        "colab_type": "code",
        "colab": {}
      },
      "source": [
        "grafos_max_soft = tf.Graph()\n",
        "with grafos_max_soft.as_default():\n",
        "    \n",
        "    x_dim = 784\n",
        "    y_dim = 3\n",
        "    with tf.name_scope('Placeholder_Declaration'):    \n",
        "        x_value = tf.placeholder(tf.float32, [None, x_dim], name='X')\n",
        "        y_value = tf.placeholder(tf.float32, [None, y_dim], name='Y')\n",
        "    \n",
        "        ph_learning = tf.placeholder(dtype = tf.float64, name='lr')\n",
        "    \n",
        "    with tf.name_scope('Variables_Declaration'):\n",
        "        w_value = tf.Variable(tf.zeros([784,3]),name='W')\n",
        "        b_value = tf.Variable(tf.zeros([3]), name='B')\n",
        "    \n",
        "    with tf.name_scope('Hypothesis'):   \n",
        "        logits_graph = tf.add(tf.matmul(x_value, w_value, name='Hypothesis_Dot_Product'), b_value, name='Hypothesis_Plus_B')\n",
        "        yhat_soft = tf.nn.softmax(logits_graph, name='Hyphotesis_Softmax')\n",
        "    \n",
        "    with tf.name_scope('Cost_Function'):\n",
        "        cost_g_soft = (tf.reduce_mean(-tf.reduce_sum(y_value * tf.log(yhat_soft), axis = 1)))\n",
        "    \n",
        "    with tf.name_scope('Des_Gradient_Optimizer'):\n",
        "        cost_summary_soft = tf.summary.scalar('Cost',cost_g_soft)\n",
        "        \n",
        "        optimization = tf.train.GradientDescentOptimizer(ph_learning).minimize(cost_g_soft)\n",
        "    \n",
        "    correct_prediction_soft = tf.equal(tf.argmax(yhat_soft,1), tf.argmax(y_value,1))\n",
        "    Soft_Accuracy = tf.reduce_mean(tf.cast(correct_prediction_soft, tf.float32))\n",
        "    accuracy_summary_soft = tf.summary.scalar('Soft_Accuracy',Soft_Accuracy)\n",
        "    \n",
        "    summaries_soft_var = tf.summary.merge_all()"
      ],
      "execution_count": 139,
      "outputs": []
    },
    {
      "cell_type": "code",
      "metadata": {
        "id": "V97K7zQYtPwX",
        "colab_type": "code",
        "colab": {
          "base_uri": "https://localhost:8080/",
          "height": 1000
        },
        "outputId": "4f6d1ef1-3cd8-467c-b217-49dfd82311a7"
      },
      "source": [
        "with tf.Session(graph = grafos_max_soft) as sessionC:\n",
        "    tf.global_variables_initializer().run()\n",
        "    \n",
        "    writer = tf.summary.FileWriter('gdrive/My Drive/Colab Notebooks//graphs2', sessionC.graph)\n",
        "    \n",
        "    for epoch_count_soft in range(epochs_soft):\n",
        "        for i in range(batches_soft):\n",
        "            offset = i * epoch_count_soft \n",
        "            x = train_images_reshaped[offset: offset + batch_size_soft] ## slicing de filas en los datos crudos \n",
        "            y = hot_s_te_l[offset: offset + batch_size_soft] ## slicing de filas de las labels del one hot\n",
        "            __,final_WW,final_BB,acc = sessionC.run([optimization,w_value,b_value,Soft_Accuracy], feed_dict={x_value:x, y_value:y, ph_learning:0.00001})\n",
        "            cost_ss = sessionC.run(cost_g_soft, feed_dict={x_value:x, y_value:y})\n",
        "            \n",
        "            ## sesion que ejecuta el nodo del escalar para tensorboard\n",
        "            summaries_ss = sessionC.run(summaries_soft_var, feed_dict={x_value:x, y_value:y, ph_learning:0.001})\n",
        "            writer.add_summary(summaries_ss, i)\n",
        "        \n",
        "        if (epoch_count_soft % 1 == 0):\n",
        "            print('Iteration: ', epoch_count_soft, '. Cost: ', cost_ss)\n",
        "        \n",
        "        writer.close()\n",
        "      \n",
        "    print('Accuracy', acc)"
      ],
      "execution_count": 141,
      "outputs": [
        {
          "output_type": "stream",
          "text": [
            "Iteration:  0 . Cost:  nan\n"
          ],
          "name": "stdout"
        },
        {
          "output_type": "stream",
          "text": [
            "/usr/local/lib/python3.6/dist-packages/tensorflow/python/summary/writer/writer.py:388: UserWarning: Attempting to use a closed FileWriter. The operation will be a noop unless the FileWriter is explicitly reopened.\n",
            "  warnings.warn(\"Attempting to use a closed FileWriter. \"\n"
          ],
          "name": "stderr"
        },
        {
          "output_type": "stream",
          "text": [
            "Iteration:  1 . Cost:  nan\n",
            "Iteration:  2 . Cost:  nan\n",
            "Iteration:  3 . Cost:  nan\n",
            "Iteration:  4 . Cost:  nan\n",
            "Iteration:  5 . Cost:  nan\n"
          ],
          "name": "stdout"
        },
        {
          "output_type": "error",
          "ename": "InvalidArgumentError",
          "evalue": "ignored",
          "traceback": [
            "\u001b[0;31m---------------------------------------------------------------------------\u001b[0m",
            "\u001b[0;31mInvalidArgumentError\u001b[0m                      Traceback (most recent call last)",
            "\u001b[0;32m/usr/local/lib/python3.6/dist-packages/tensorflow/python/client/session.py\u001b[0m in \u001b[0;36m_do_call\u001b[0;34m(self, fn, *args)\u001b[0m\n\u001b[1;32m   1364\u001b[0m     \u001b[0;32mtry\u001b[0m\u001b[0;34m:\u001b[0m\u001b[0;34m\u001b[0m\u001b[0;34m\u001b[0m\u001b[0m\n\u001b[0;32m-> 1365\u001b[0;31m       \u001b[0;32mreturn\u001b[0m \u001b[0mfn\u001b[0m\u001b[0;34m(\u001b[0m\u001b[0;34m*\u001b[0m\u001b[0margs\u001b[0m\u001b[0;34m)\u001b[0m\u001b[0;34m\u001b[0m\u001b[0;34m\u001b[0m\u001b[0m\n\u001b[0m\u001b[1;32m   1366\u001b[0m     \u001b[0;32mexcept\u001b[0m \u001b[0merrors\u001b[0m\u001b[0;34m.\u001b[0m\u001b[0mOpError\u001b[0m \u001b[0;32mas\u001b[0m \u001b[0me\u001b[0m\u001b[0;34m:\u001b[0m\u001b[0;34m\u001b[0m\u001b[0;34m\u001b[0m\u001b[0m\n",
            "\u001b[0;32m/usr/local/lib/python3.6/dist-packages/tensorflow/python/client/session.py\u001b[0m in \u001b[0;36m_run_fn\u001b[0;34m(feed_dict, fetch_list, target_list, options, run_metadata)\u001b[0m\n\u001b[1;32m   1349\u001b[0m       return self._call_tf_sessionrun(options, feed_dict, fetch_list,\n\u001b[0;32m-> 1350\u001b[0;31m                                       target_list, run_metadata)\n\u001b[0m\u001b[1;32m   1351\u001b[0m \u001b[0;34m\u001b[0m\u001b[0m\n",
            "\u001b[0;32m/usr/local/lib/python3.6/dist-packages/tensorflow/python/client/session.py\u001b[0m in \u001b[0;36m_call_tf_sessionrun\u001b[0;34m(self, options, feed_dict, fetch_list, target_list, run_metadata)\u001b[0m\n\u001b[1;32m   1442\u001b[0m                                             \u001b[0mfetch_list\u001b[0m\u001b[0;34m,\u001b[0m \u001b[0mtarget_list\u001b[0m\u001b[0;34m,\u001b[0m\u001b[0;34m\u001b[0m\u001b[0;34m\u001b[0m\u001b[0m\n\u001b[0;32m-> 1443\u001b[0;31m                                             run_metadata)\n\u001b[0m\u001b[1;32m   1444\u001b[0m \u001b[0;34m\u001b[0m\u001b[0m\n",
            "\u001b[0;31mInvalidArgumentError\u001b[0m: Incompatible shapes: [32,3] vs. [30,3]\n\t [[{{node Cost_Function/mul}}]]",
            "\nDuring handling of the above exception, another exception occurred:\n",
            "\u001b[0;31mInvalidArgumentError\u001b[0m                      Traceback (most recent call last)",
            "\u001b[0;32m<ipython-input-141-554606921bef>\u001b[0m in \u001b[0;36m<module>\u001b[0;34m()\u001b[0m\n\u001b[1;32m      9\u001b[0m             \u001b[0mx\u001b[0m \u001b[0;34m=\u001b[0m \u001b[0mtrain_images_reshaped\u001b[0m\u001b[0;34m[\u001b[0m\u001b[0moffset\u001b[0m\u001b[0;34m:\u001b[0m \u001b[0moffset\u001b[0m \u001b[0;34m+\u001b[0m \u001b[0mbatch_size_soft\u001b[0m\u001b[0;34m]\u001b[0m \u001b[0;31m## slicing de filas en los datos crudos\u001b[0m\u001b[0;34m\u001b[0m\u001b[0;34m\u001b[0m\u001b[0m\n\u001b[1;32m     10\u001b[0m             \u001b[0my\u001b[0m \u001b[0;34m=\u001b[0m \u001b[0mhot_s_te_l\u001b[0m\u001b[0;34m[\u001b[0m\u001b[0moffset\u001b[0m\u001b[0;34m:\u001b[0m \u001b[0moffset\u001b[0m \u001b[0;34m+\u001b[0m \u001b[0mbatch_size_soft\u001b[0m\u001b[0;34m]\u001b[0m \u001b[0;31m## slicing de filas de las labels del one hot\u001b[0m\u001b[0;34m\u001b[0m\u001b[0;34m\u001b[0m\u001b[0m\n\u001b[0;32m---> 11\u001b[0;31m             \u001b[0m__\u001b[0m\u001b[0;34m,\u001b[0m\u001b[0mfinal_WW\u001b[0m\u001b[0;34m,\u001b[0m\u001b[0mfinal_BB\u001b[0m\u001b[0;34m,\u001b[0m\u001b[0macc\u001b[0m \u001b[0;34m=\u001b[0m \u001b[0msessionC\u001b[0m\u001b[0;34m.\u001b[0m\u001b[0mrun\u001b[0m\u001b[0;34m(\u001b[0m\u001b[0;34m[\u001b[0m\u001b[0moptimization\u001b[0m\u001b[0;34m,\u001b[0m\u001b[0mw_value\u001b[0m\u001b[0;34m,\u001b[0m\u001b[0mb_value\u001b[0m\u001b[0;34m,\u001b[0m\u001b[0mSoft_Accuracy\u001b[0m\u001b[0;34m]\u001b[0m\u001b[0;34m,\u001b[0m \u001b[0mfeed_dict\u001b[0m\u001b[0;34m=\u001b[0m\u001b[0;34m{\u001b[0m\u001b[0mx_value\u001b[0m\u001b[0;34m:\u001b[0m\u001b[0mx\u001b[0m\u001b[0;34m,\u001b[0m \u001b[0my_value\u001b[0m\u001b[0;34m:\u001b[0m\u001b[0my\u001b[0m\u001b[0;34m,\u001b[0m \u001b[0mph_learning\u001b[0m\u001b[0;34m:\u001b[0m\u001b[0;36m0.00001\u001b[0m\u001b[0;34m}\u001b[0m\u001b[0;34m)\u001b[0m\u001b[0;34m\u001b[0m\u001b[0;34m\u001b[0m\u001b[0m\n\u001b[0m\u001b[1;32m     12\u001b[0m             \u001b[0mcost_ss\u001b[0m \u001b[0;34m=\u001b[0m \u001b[0msessionC\u001b[0m\u001b[0;34m.\u001b[0m\u001b[0mrun\u001b[0m\u001b[0;34m(\u001b[0m\u001b[0mcost_g_soft\u001b[0m\u001b[0;34m,\u001b[0m \u001b[0mfeed_dict\u001b[0m\u001b[0;34m=\u001b[0m\u001b[0;34m{\u001b[0m\u001b[0mx_value\u001b[0m\u001b[0;34m:\u001b[0m\u001b[0mx\u001b[0m\u001b[0;34m,\u001b[0m \u001b[0my_value\u001b[0m\u001b[0;34m:\u001b[0m\u001b[0my\u001b[0m\u001b[0;34m}\u001b[0m\u001b[0;34m)\u001b[0m\u001b[0;34m\u001b[0m\u001b[0;34m\u001b[0m\u001b[0m\n\u001b[1;32m     13\u001b[0m \u001b[0;34m\u001b[0m\u001b[0m\n",
            "\u001b[0;32m/usr/local/lib/python3.6/dist-packages/tensorflow/python/client/session.py\u001b[0m in \u001b[0;36mrun\u001b[0;34m(self, fetches, feed_dict, options, run_metadata)\u001b[0m\n\u001b[1;32m    956\u001b[0m     \u001b[0;32mtry\u001b[0m\u001b[0;34m:\u001b[0m\u001b[0;34m\u001b[0m\u001b[0;34m\u001b[0m\u001b[0m\n\u001b[1;32m    957\u001b[0m       result = self._run(None, fetches, feed_dict, options_ptr,\n\u001b[0;32m--> 958\u001b[0;31m                          run_metadata_ptr)\n\u001b[0m\u001b[1;32m    959\u001b[0m       \u001b[0;32mif\u001b[0m \u001b[0mrun_metadata\u001b[0m\u001b[0;34m:\u001b[0m\u001b[0;34m\u001b[0m\u001b[0;34m\u001b[0m\u001b[0m\n\u001b[1;32m    960\u001b[0m         \u001b[0mproto_data\u001b[0m \u001b[0;34m=\u001b[0m \u001b[0mtf_session\u001b[0m\u001b[0;34m.\u001b[0m\u001b[0mTF_GetBuffer\u001b[0m\u001b[0;34m(\u001b[0m\u001b[0mrun_metadata_ptr\u001b[0m\u001b[0;34m)\u001b[0m\u001b[0;34m\u001b[0m\u001b[0;34m\u001b[0m\u001b[0m\n",
            "\u001b[0;32m/usr/local/lib/python3.6/dist-packages/tensorflow/python/client/session.py\u001b[0m in \u001b[0;36m_run\u001b[0;34m(self, handle, fetches, feed_dict, options, run_metadata)\u001b[0m\n\u001b[1;32m   1179\u001b[0m     \u001b[0;32mif\u001b[0m \u001b[0mfinal_fetches\u001b[0m \u001b[0;32mor\u001b[0m \u001b[0mfinal_targets\u001b[0m \u001b[0;32mor\u001b[0m \u001b[0;34m(\u001b[0m\u001b[0mhandle\u001b[0m \u001b[0;32mand\u001b[0m \u001b[0mfeed_dict_tensor\u001b[0m\u001b[0;34m)\u001b[0m\u001b[0;34m:\u001b[0m\u001b[0;34m\u001b[0m\u001b[0;34m\u001b[0m\u001b[0m\n\u001b[1;32m   1180\u001b[0m       results = self._do_run(handle, final_targets, final_fetches,\n\u001b[0;32m-> 1181\u001b[0;31m                              feed_dict_tensor, options, run_metadata)\n\u001b[0m\u001b[1;32m   1182\u001b[0m     \u001b[0;32melse\u001b[0m\u001b[0;34m:\u001b[0m\u001b[0;34m\u001b[0m\u001b[0;34m\u001b[0m\u001b[0m\n\u001b[1;32m   1183\u001b[0m       \u001b[0mresults\u001b[0m \u001b[0;34m=\u001b[0m \u001b[0;34m[\u001b[0m\u001b[0;34m]\u001b[0m\u001b[0;34m\u001b[0m\u001b[0;34m\u001b[0m\u001b[0m\n",
            "\u001b[0;32m/usr/local/lib/python3.6/dist-packages/tensorflow/python/client/session.py\u001b[0m in \u001b[0;36m_do_run\u001b[0;34m(self, handle, target_list, fetch_list, feed_dict, options, run_metadata)\u001b[0m\n\u001b[1;32m   1357\u001b[0m     \u001b[0;32mif\u001b[0m \u001b[0mhandle\u001b[0m \u001b[0;32mis\u001b[0m \u001b[0;32mNone\u001b[0m\u001b[0;34m:\u001b[0m\u001b[0;34m\u001b[0m\u001b[0;34m\u001b[0m\u001b[0m\n\u001b[1;32m   1358\u001b[0m       return self._do_call(_run_fn, feeds, fetches, targets, options,\n\u001b[0;32m-> 1359\u001b[0;31m                            run_metadata)\n\u001b[0m\u001b[1;32m   1360\u001b[0m     \u001b[0;32melse\u001b[0m\u001b[0;34m:\u001b[0m\u001b[0;34m\u001b[0m\u001b[0;34m\u001b[0m\u001b[0m\n\u001b[1;32m   1361\u001b[0m       \u001b[0;32mreturn\u001b[0m \u001b[0mself\u001b[0m\u001b[0;34m.\u001b[0m\u001b[0m_do_call\u001b[0m\u001b[0;34m(\u001b[0m\u001b[0m_prun_fn\u001b[0m\u001b[0;34m,\u001b[0m \u001b[0mhandle\u001b[0m\u001b[0;34m,\u001b[0m \u001b[0mfeeds\u001b[0m\u001b[0;34m,\u001b[0m \u001b[0mfetches\u001b[0m\u001b[0;34m)\u001b[0m\u001b[0;34m\u001b[0m\u001b[0;34m\u001b[0m\u001b[0m\n",
            "\u001b[0;32m/usr/local/lib/python3.6/dist-packages/tensorflow/python/client/session.py\u001b[0m in \u001b[0;36m_do_call\u001b[0;34m(self, fn, *args)\u001b[0m\n\u001b[1;32m   1382\u001b[0m                     \u001b[0;34m'\\nsession_config.graph_options.rewrite_options.'\u001b[0m\u001b[0;34m\u001b[0m\u001b[0;34m\u001b[0m\u001b[0m\n\u001b[1;32m   1383\u001b[0m                     'disable_meta_optimizer = True')\n\u001b[0;32m-> 1384\u001b[0;31m       \u001b[0;32mraise\u001b[0m \u001b[0mtype\u001b[0m\u001b[0;34m(\u001b[0m\u001b[0me\u001b[0m\u001b[0;34m)\u001b[0m\u001b[0;34m(\u001b[0m\u001b[0mnode_def\u001b[0m\u001b[0;34m,\u001b[0m \u001b[0mop\u001b[0m\u001b[0;34m,\u001b[0m \u001b[0mmessage\u001b[0m\u001b[0;34m)\u001b[0m\u001b[0;34m\u001b[0m\u001b[0;34m\u001b[0m\u001b[0m\n\u001b[0m\u001b[1;32m   1385\u001b[0m \u001b[0;34m\u001b[0m\u001b[0m\n\u001b[1;32m   1386\u001b[0m   \u001b[0;32mdef\u001b[0m \u001b[0m_extend_graph\u001b[0m\u001b[0;34m(\u001b[0m\u001b[0mself\u001b[0m\u001b[0;34m)\u001b[0m\u001b[0;34m:\u001b[0m\u001b[0;34m\u001b[0m\u001b[0;34m\u001b[0m\u001b[0m\n",
            "\u001b[0;31mInvalidArgumentError\u001b[0m: Incompatible shapes: [32,3] vs. [30,3]\n\t [[node Cost_Function/mul (defined at <ipython-input-139-7152dbde7130>:21) ]]\n\nErrors may have originated from an input operation.\nInput Source operations connected to node Cost_Function/mul:\n Placeholder_Declaration/Y (defined at <ipython-input-139-7152dbde7130>:8)\n\nOriginal stack trace for 'Cost_Function/mul':\n  File \"/usr/lib/python3.6/runpy.py\", line 193, in _run_module_as_main\n    \"__main__\", mod_spec)\n  File \"/usr/lib/python3.6/runpy.py\", line 85, in _run_code\n    exec(code, run_globals)\n  File \"/usr/local/lib/python3.6/dist-packages/ipykernel_launcher.py\", line 16, in <module>\n    app.launch_new_instance()\n  File \"/usr/local/lib/python3.6/dist-packages/traitlets/config/application.py\", line 664, in launch_instance\n    app.start()\n  File \"/usr/local/lib/python3.6/dist-packages/ipykernel/kernelapp.py\", line 499, in start\n    self.io_loop.start()\n  File \"/usr/local/lib/python3.6/dist-packages/tornado/ioloop.py\", line 888, in start\n    handler_func(fd_obj, events)\n  File \"/usr/local/lib/python3.6/dist-packages/tornado/stack_context.py\", line 277, in null_wrapper\n    return fn(*args, **kwargs)\n  File \"/usr/local/lib/python3.6/dist-packages/zmq/eventloop/zmqstream.py\", line 456, in _handle_events\n    self._handle_recv()\n  File \"/usr/local/lib/python3.6/dist-packages/zmq/eventloop/zmqstream.py\", line 486, in _handle_recv\n    self._run_callback(callback, msg)\n  File \"/usr/local/lib/python3.6/dist-packages/zmq/eventloop/zmqstream.py\", line 438, in _run_callback\n    callback(*args, **kwargs)\n  File \"/usr/local/lib/python3.6/dist-packages/tornado/stack_context.py\", line 277, in null_wrapper\n    return fn(*args, **kwargs)\n  File \"/usr/local/lib/python3.6/dist-packages/ipykernel/kernelbase.py\", line 283, in dispatcher\n    return self.dispatch_shell(stream, msg)\n  File \"/usr/local/lib/python3.6/dist-packages/ipykernel/kernelbase.py\", line 233, in dispatch_shell\n    handler(stream, idents, msg)\n  File \"/usr/local/lib/python3.6/dist-packages/ipykernel/kernelbase.py\", line 399, in execute_request\n    user_expressions, allow_stdin)\n  File \"/usr/local/lib/python3.6/dist-packages/ipykernel/ipkernel.py\", line 208, in do_execute\n    res = shell.run_cell(code, store_history=store_history, silent=silent)\n  File \"/usr/local/lib/python3.6/dist-packages/ipykernel/zmqshell.py\", line 537, in run_cell\n    return super(ZMQInteractiveShell, self).run_cell(*args, **kwargs)\n  File \"/usr/local/lib/python3.6/dist-packages/IPython/core/interactiveshell.py\", line 2718, in run_cell\n    interactivity=interactivity, compiler=compiler, result=result)\n  File \"/usr/local/lib/python3.6/dist-packages/IPython/core/interactiveshell.py\", line 2822, in run_ast_nodes\n    if self.run_code(code, result):\n  File \"/usr/local/lib/python3.6/dist-packages/IPython/core/interactiveshell.py\", line 2882, in run_code\n    exec(code_obj, self.user_global_ns, self.user_ns)\n  File \"<ipython-input-139-7152dbde7130>\", line 21, in <module>\n    cost_g_soft = (tf.reduce_mean(-tf.reduce_sum(y_value * tf.log(yhat_soft), axis = 1)))\n  File \"/usr/local/lib/python3.6/dist-packages/tensorflow/python/ops/math_ops.py\", line 984, in binary_op_wrapper\n    return func(x, y, name=name)\n  File \"/usr/local/lib/python3.6/dist-packages/tensorflow/python/ops/math_ops.py\", line 1283, in _mul_dispatch\n    return gen_math_ops.mul(x, y, name=name)\n  File \"/usr/local/lib/python3.6/dist-packages/tensorflow/python/ops/gen_math_ops.py\", line 6092, in mul\n    \"Mul\", x=x, y=y, name=name)\n  File \"/usr/local/lib/python3.6/dist-packages/tensorflow/python/framework/op_def_library.py\", line 744, in _apply_op_helper\n    attrs=attr_protos, op_def=op_def)\n  File \"/usr/local/lib/python3.6/dist-packages/tensorflow/python/framework/ops.py\", line 3327, in _create_op_internal\n    op_def=op_def)\n  File \"/usr/local/lib/python3.6/dist-packages/tensorflow/python/framework/ops.py\", line 1791, in __init__\n    self._traceback = tf_stack.extract_stack()\n"
          ]
        }
      ]
    }
  ]
}